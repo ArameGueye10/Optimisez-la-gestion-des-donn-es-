{
 "cells": [
  {
   "cell_type": "markdown",
   "id": "82eda415",
   "metadata": {
    "slideshow": {
     "slide_type": "slide"
    }
   },
   "source": [
    "# Optimisez La Gestion Des Données D'une Boutique Avec Python"
   ]
  },
  {
   "cell_type": "markdown",
   "id": "483d0c5f-aca6-472e-b110-d29953a4a5f8",
   "metadata": {
    "slideshow": {
     "slide_type": "skip"
    },
    "tags": []
   },
   "source": [
    "#  SOMMAIRE\n",
    "## 1-Importation des Librairies\n",
    "## 2-Lectures des Données\n",
    "## 3-Exploration des Dataframes\n",
    "### 3-1 Erp\n",
    "### 3-2 Liaison\n",
    "### 3-3 Web\n",
    "## 4-Netoyage des données\n",
    "### 4-1 Fichier erp\n",
    "### 4-2 Fichier web\n",
    "### 4-3 Fichier Liaison\n",
    "## 5-Rapprochement entre erp et web\n",
    "## 6-Calcul du Chiffre d'Affaire\n",
    "### 6-1 Chiffre d'Affaire par produit\n",
    "### 6-2 Chiffre d'Affaire total\n",
    "## 7-Analyse des outliers\n",
    "### 7-1 La méthode graphique\n",
    "### 7-2 La méthode z-score\n",
    "### 7-3 La méthode écart interquartile\n",
    "## 8-Analyse Des Ventes\n",
    "### 8-1 Conclusion"
   ]
  },
  {
   "cell_type": "markdown",
   "id": "948491e3-9123-47d1-9285-ac93fe83cca6",
   "metadata": {
    "jp-MarkdownHeadingCollapsed": true,
    "slideshow": {
     "slide_type": "slide"
    },
    "tags": []
   },
   "source": [
    "# 1-Importation des Librairies"
   ]
  },
  {
   "cell_type": "code",
   "execution_count": 1,
   "id": "b90cd0d9-9548-45c7-8726-f2c072d13865",
   "metadata": {
    "slideshow": {
     "slide_type": "subslide"
    }
   },
   "outputs": [],
   "source": [
    "import pandas as pd\n",
    "import numpy as np\n",
    "import matplotlib.pyplot as plt\n",
    "import seaborn as sbn\n",
    "import warnings\n",
    "warnings.filterwarnings('ignore')\n",
    "warnings.simplefilter('ignore')"
   ]
  },
  {
   "cell_type": "markdown",
   "id": "b1189e06-c3a7-4bea-970c-8c6d0d1ac9fb",
   "metadata": {
    "jp-MarkdownHeadingCollapsed": true,
    "slideshow": {
     "slide_type": "slide"
    },
    "tags": []
   },
   "source": [
    "# 2-Lectures des Données"
   ]
  },
  {
   "cell_type": "code",
   "execution_count": 2,
   "id": "563c9381-eda6-48c2-8cb3-a16989516000",
   "metadata": {
    "slideshow": {
     "slide_type": "subslide"
    }
   },
   "outputs": [],
   "source": [
    "erp = pd.read_excel('erp.xlsx')"
   ]
  },
  {
   "cell_type": "code",
   "execution_count": 3,
   "id": "a97058e3-24f6-47fa-9de7-bfdfcbb54566",
   "metadata": {
    "slideshow": {
     "slide_type": "subslide"
    }
   },
   "outputs": [],
   "source": [
    "liaison = pd.read_excel('liaison.xlsx')"
   ]
  },
  {
   "cell_type": "code",
   "execution_count": 4,
   "id": "e619c398-e71e-4e9b-90f2-0ee357ffc972",
   "metadata": {
    "slideshow": {
     "slide_type": "subslide"
    }
   },
   "outputs": [],
   "source": [
    "web = pd.read_excel('web.xlsx')"
   ]
  },
  {
   "cell_type": "markdown",
   "id": "02e097e0-3e6c-4159-ab61-9ddb79271aa5",
   "metadata": {
    "jp-MarkdownHeadingCollapsed": true,
    "slideshow": {
     "slide_type": "slide"
    },
    "tags": []
   },
   "source": [
    "# 3-Exploration des Dataframes"
   ]
  },
  {
   "cell_type": "markdown",
   "id": "415e244b-1dda-49c0-a9b4-af2fd1000a4a",
   "metadata": {
    "jp-MarkdownHeadingCollapsed": true,
    "slideshow": {
     "slide_type": "subslide"
    },
    "tags": []
   },
   "source": [
    "## 3-1 Erp"
   ]
  },
  {
   "cell_type": "code",
   "execution_count": 5,
   "id": "a33f25ee-41ed-410b-bc0c-f9bcebc6aff1",
   "metadata": {
    "slideshow": {
     "slide_type": "subslide"
    }
   },
   "outputs": [
    {
     "data": {
      "text/html": [
       "<div>\n",
       "<style scoped>\n",
       "    .dataframe tbody tr th:only-of-type {\n",
       "        vertical-align: middle;\n",
       "    }\n",
       "\n",
       "    .dataframe tbody tr th {\n",
       "        vertical-align: top;\n",
       "    }\n",
       "\n",
       "    .dataframe thead th {\n",
       "        text-align: right;\n",
       "    }\n",
       "</style>\n",
       "<table border=\"1\" class=\"dataframe\">\n",
       "  <thead>\n",
       "    <tr style=\"text-align: right;\">\n",
       "      <th></th>\n",
       "      <th>product_id</th>\n",
       "      <th>onsale_web</th>\n",
       "      <th>price</th>\n",
       "      <th>stock_quantity</th>\n",
       "      <th>stock_status</th>\n",
       "    </tr>\n",
       "  </thead>\n",
       "  <tbody>\n",
       "    <tr>\n",
       "      <th>0</th>\n",
       "      <td>3847</td>\n",
       "      <td>1</td>\n",
       "      <td>24.2</td>\n",
       "      <td>0</td>\n",
       "      <td>outofstock</td>\n",
       "    </tr>\n",
       "    <tr>\n",
       "      <th>1</th>\n",
       "      <td>3849</td>\n",
       "      <td>1</td>\n",
       "      <td>34.3</td>\n",
       "      <td>0</td>\n",
       "      <td>outofstock</td>\n",
       "    </tr>\n",
       "    <tr>\n",
       "      <th>2</th>\n",
       "      <td>3850</td>\n",
       "      <td>1</td>\n",
       "      <td>20.8</td>\n",
       "      <td>0</td>\n",
       "      <td>outofstock</td>\n",
       "    </tr>\n",
       "    <tr>\n",
       "      <th>3</th>\n",
       "      <td>4032</td>\n",
       "      <td>1</td>\n",
       "      <td>14.1</td>\n",
       "      <td>0</td>\n",
       "      <td>outofstock</td>\n",
       "    </tr>\n",
       "    <tr>\n",
       "      <th>4</th>\n",
       "      <td>4039</td>\n",
       "      <td>1</td>\n",
       "      <td>46.0</td>\n",
       "      <td>0</td>\n",
       "      <td>outofstock</td>\n",
       "    </tr>\n",
       "  </tbody>\n",
       "</table>\n",
       "</div>"
      ],
      "text/plain": [
       "   product_id  onsale_web  price  stock_quantity stock_status\n",
       "0        3847           1   24.2               0   outofstock\n",
       "1        3849           1   34.3               0   outofstock\n",
       "2        3850           1   20.8               0   outofstock\n",
       "3        4032           1   14.1               0   outofstock\n",
       "4        4039           1   46.0               0   outofstock"
      ]
     },
     "execution_count": 5,
     "metadata": {},
     "output_type": "execute_result"
    }
   ],
   "source": [
    "erp.head(5)"
   ]
  },
  {
   "cell_type": "code",
   "execution_count": 6,
   "id": "6f6ad30e-27f4-4e0e-a329-93c8736dc2e2",
   "metadata": {
    "slideshow": {
     "slide_type": "subslide"
    }
   },
   "outputs": [
    {
     "data": {
      "text/html": [
       "<div>\n",
       "<style scoped>\n",
       "    .dataframe tbody tr th:only-of-type {\n",
       "        vertical-align: middle;\n",
       "    }\n",
       "\n",
       "    .dataframe tbody tr th {\n",
       "        vertical-align: top;\n",
       "    }\n",
       "\n",
       "    .dataframe thead th {\n",
       "        text-align: right;\n",
       "    }\n",
       "</style>\n",
       "<table border=\"1\" class=\"dataframe\">\n",
       "  <thead>\n",
       "    <tr style=\"text-align: right;\">\n",
       "      <th></th>\n",
       "      <th>product_id</th>\n",
       "      <th>onsale_web</th>\n",
       "      <th>price</th>\n",
       "      <th>stock_quantity</th>\n",
       "    </tr>\n",
       "  </thead>\n",
       "  <tbody>\n",
       "    <tr>\n",
       "      <th>count</th>\n",
       "      <td>825.000000</td>\n",
       "      <td>825.000000</td>\n",
       "      <td>825.000000</td>\n",
       "      <td>825.000000</td>\n",
       "    </tr>\n",
       "    <tr>\n",
       "      <th>mean</th>\n",
       "      <td>5162.597576</td>\n",
       "      <td>0.869091</td>\n",
       "      <td>32.415636</td>\n",
       "      <td>26.496970</td>\n",
       "    </tr>\n",
       "    <tr>\n",
       "      <th>std</th>\n",
       "      <td>902.644635</td>\n",
       "      <td>0.337506</td>\n",
       "      <td>26.795849</td>\n",
       "      <td>45.892422</td>\n",
       "    </tr>\n",
       "    <tr>\n",
       "      <th>min</th>\n",
       "      <td>3847.000000</td>\n",
       "      <td>0.000000</td>\n",
       "      <td>5.200000</td>\n",
       "      <td>0.000000</td>\n",
       "    </tr>\n",
       "    <tr>\n",
       "      <th>25%</th>\n",
       "      <td>4348.000000</td>\n",
       "      <td>1.000000</td>\n",
       "      <td>14.600000</td>\n",
       "      <td>1.000000</td>\n",
       "    </tr>\n",
       "    <tr>\n",
       "      <th>50%</th>\n",
       "      <td>4907.000000</td>\n",
       "      <td>1.000000</td>\n",
       "      <td>24.400000</td>\n",
       "      <td>11.000000</td>\n",
       "    </tr>\n",
       "    <tr>\n",
       "      <th>75%</th>\n",
       "      <td>5805.000000</td>\n",
       "      <td>1.000000</td>\n",
       "      <td>42.000000</td>\n",
       "      <td>34.000000</td>\n",
       "    </tr>\n",
       "    <tr>\n",
       "      <th>max</th>\n",
       "      <td>7338.000000</td>\n",
       "      <td>1.000000</td>\n",
       "      <td>225.000000</td>\n",
       "      <td>578.000000</td>\n",
       "    </tr>\n",
       "  </tbody>\n",
       "</table>\n",
       "</div>"
      ],
      "text/plain": [
       "        product_id  onsale_web       price  stock_quantity\n",
       "count   825.000000  825.000000  825.000000      825.000000\n",
       "mean   5162.597576    0.869091   32.415636       26.496970\n",
       "std     902.644635    0.337506   26.795849       45.892422\n",
       "min    3847.000000    0.000000    5.200000        0.000000\n",
       "25%    4348.000000    1.000000   14.600000        1.000000\n",
       "50%    4907.000000    1.000000   24.400000       11.000000\n",
       "75%    5805.000000    1.000000   42.000000       34.000000\n",
       "max    7338.000000    1.000000  225.000000      578.000000"
      ]
     },
     "execution_count": 6,
     "metadata": {},
     "output_type": "execute_result"
    }
   ],
   "source": [
    "erp.describe()"
   ]
  },
  {
   "cell_type": "code",
   "execution_count": 7,
   "id": "4202461c-b2f3-425f-8191-66a7014de3b3",
   "metadata": {
    "slideshow": {
     "slide_type": "subslide"
    }
   },
   "outputs": [
    {
     "name": "stdout",
     "output_type": "stream",
     "text": [
      "<class 'pandas.core.frame.DataFrame'>\n",
      "RangeIndex: 825 entries, 0 to 824\n",
      "Data columns (total 5 columns):\n",
      " #   Column          Non-Null Count  Dtype  \n",
      "---  ------          --------------  -----  \n",
      " 0   product_id      825 non-null    int64  \n",
      " 1   onsale_web      825 non-null    int64  \n",
      " 2   price           825 non-null    float64\n",
      " 3   stock_quantity  825 non-null    int64  \n",
      " 4   stock_status    825 non-null    object \n",
      "dtypes: float64(1), int64(3), object(1)\n",
      "memory usage: 32.4+ KB\n"
     ]
    }
   ],
   "source": [
    "erp.info()"
   ]
  },
  {
   "cell_type": "markdown",
   "id": "bf9497e9-d902-480c-8b80-42f8eb320acc",
   "metadata": {
    "jp-MarkdownHeadingCollapsed": true,
    "slideshow": {
     "slide_type": "subslide"
    },
    "tags": []
   },
   "source": [
    "## 3-2 Liaison"
   ]
  },
  {
   "cell_type": "code",
   "execution_count": 8,
   "id": "71caa394-8806-4ef7-a251-f6e8ba4060b2",
   "metadata": {
    "slideshow": {
     "slide_type": "subslide"
    }
   },
   "outputs": [
    {
     "data": {
      "text/html": [
       "<div>\n",
       "<style scoped>\n",
       "    .dataframe tbody tr th:only-of-type {\n",
       "        vertical-align: middle;\n",
       "    }\n",
       "\n",
       "    .dataframe tbody tr th {\n",
       "        vertical-align: top;\n",
       "    }\n",
       "\n",
       "    .dataframe thead th {\n",
       "        text-align: right;\n",
       "    }\n",
       "</style>\n",
       "<table border=\"1\" class=\"dataframe\">\n",
       "  <thead>\n",
       "    <tr style=\"text-align: right;\">\n",
       "      <th></th>\n",
       "      <th>product_id</th>\n",
       "      <th>id_web</th>\n",
       "    </tr>\n",
       "  </thead>\n",
       "  <tbody>\n",
       "    <tr>\n",
       "      <th>0</th>\n",
       "      <td>3847</td>\n",
       "      <td>15298</td>\n",
       "    </tr>\n",
       "    <tr>\n",
       "      <th>1</th>\n",
       "      <td>3849</td>\n",
       "      <td>15296</td>\n",
       "    </tr>\n",
       "    <tr>\n",
       "      <th>2</th>\n",
       "      <td>3850</td>\n",
       "      <td>15300</td>\n",
       "    </tr>\n",
       "    <tr>\n",
       "      <th>3</th>\n",
       "      <td>4032</td>\n",
       "      <td>19814</td>\n",
       "    </tr>\n",
       "    <tr>\n",
       "      <th>4</th>\n",
       "      <td>4039</td>\n",
       "      <td>19815</td>\n",
       "    </tr>\n",
       "  </tbody>\n",
       "</table>\n",
       "</div>"
      ],
      "text/plain": [
       "   product_id id_web\n",
       "0        3847  15298\n",
       "1        3849  15296\n",
       "2        3850  15300\n",
       "3        4032  19814\n",
       "4        4039  19815"
      ]
     },
     "execution_count": 8,
     "metadata": {},
     "output_type": "execute_result"
    }
   ],
   "source": [
    "liaison.head()"
   ]
  },
  {
   "cell_type": "code",
   "execution_count": 9,
   "id": "75c66b65-2340-4c23-90bb-c3c38ec03425",
   "metadata": {
    "slideshow": {
     "slide_type": "subslide"
    }
   },
   "outputs": [
    {
     "name": "stdout",
     "output_type": "stream",
     "text": [
      "<class 'pandas.core.frame.DataFrame'>\n",
      "RangeIndex: 825 entries, 0 to 824\n",
      "Data columns (total 2 columns):\n",
      " #   Column      Non-Null Count  Dtype \n",
      "---  ------      --------------  ----- \n",
      " 0   product_id  825 non-null    int64 \n",
      " 1   id_web      734 non-null    object\n",
      "dtypes: int64(1), object(1)\n",
      "memory usage: 13.0+ KB\n"
     ]
    }
   ],
   "source": [
    "liaison.info()             "
   ]
  },
  {
   "cell_type": "markdown",
   "id": "22987e2c-b43a-4cb4-9f74-9518b580b4c5",
   "metadata": {
    "jp-MarkdownHeadingCollapsed": true,
    "slideshow": {
     "slide_type": "subslide"
    },
    "tags": []
   },
   "source": [
    "## 3-3 Web"
   ]
  },
  {
   "cell_type": "code",
   "execution_count": 10,
   "id": "6190922a-9244-43a2-bdc1-aa3c2b988019",
   "metadata": {
    "slideshow": {
     "slide_type": "subslide"
    }
   },
   "outputs": [
    {
     "data": {
      "text/html": [
       "<div>\n",
       "<style scoped>\n",
       "    .dataframe tbody tr th:only-of-type {\n",
       "        vertical-align: middle;\n",
       "    }\n",
       "\n",
       "    .dataframe tbody tr th {\n",
       "        vertical-align: top;\n",
       "    }\n",
       "\n",
       "    .dataframe thead th {\n",
       "        text-align: right;\n",
       "    }\n",
       "</style>\n",
       "<table border=\"1\" class=\"dataframe\">\n",
       "  <thead>\n",
       "    <tr style=\"text-align: right;\">\n",
       "      <th></th>\n",
       "      <th>sku</th>\n",
       "      <th>virtual</th>\n",
       "      <th>downloadable</th>\n",
       "      <th>rating_count</th>\n",
       "      <th>average_rating</th>\n",
       "      <th>total_sales</th>\n",
       "      <th>tax_status</th>\n",
       "      <th>tax_class</th>\n",
       "      <th>post_author</th>\n",
       "      <th>post_date</th>\n",
       "      <th>...</th>\n",
       "      <th>post_name</th>\n",
       "      <th>post_modified</th>\n",
       "      <th>post_modified_gmt</th>\n",
       "      <th>post_content_filtered</th>\n",
       "      <th>post_parent</th>\n",
       "      <th>guid</th>\n",
       "      <th>menu_order</th>\n",
       "      <th>post_type</th>\n",
       "      <th>post_mime_type</th>\n",
       "      <th>comment_count</th>\n",
       "    </tr>\n",
       "  </thead>\n",
       "  <tbody>\n",
       "    <tr>\n",
       "      <th>0</th>\n",
       "      <td>bon-cadeau-25-euros</td>\n",
       "      <td>0</td>\n",
       "      <td>0</td>\n",
       "      <td>0</td>\n",
       "      <td>0.0</td>\n",
       "      <td>10.0</td>\n",
       "      <td>taxable</td>\n",
       "      <td>NaN</td>\n",
       "      <td>1.0</td>\n",
       "      <td>2018-06-01 13:53:46</td>\n",
       "      <td>...</td>\n",
       "      <td>bon-cadeau-de-25-euros</td>\n",
       "      <td>2018-06-01 14:13:57</td>\n",
       "      <td>2018-06-01 12:13:57</td>\n",
       "      <td>NaN</td>\n",
       "      <td>0.0</td>\n",
       "      <td>https://www.bottle-neck.fr/?post_type=product&amp;...</td>\n",
       "      <td>0.0</td>\n",
       "      <td>product</td>\n",
       "      <td>NaN</td>\n",
       "      <td>0.0</td>\n",
       "    </tr>\n",
       "    <tr>\n",
       "      <th>1</th>\n",
       "      <td>15298</td>\n",
       "      <td>0</td>\n",
       "      <td>0</td>\n",
       "      <td>0</td>\n",
       "      <td>0.0</td>\n",
       "      <td>6.0</td>\n",
       "      <td>taxable</td>\n",
       "      <td>NaN</td>\n",
       "      <td>2.0</td>\n",
       "      <td>2018-02-08 12:58:52</td>\n",
       "      <td>...</td>\n",
       "      <td>pierre-jean-villa-saint-joseph-preface-2018</td>\n",
       "      <td>2019-12-30 09:30:29</td>\n",
       "      <td>2019-12-30 08:30:29</td>\n",
       "      <td>NaN</td>\n",
       "      <td>0.0</td>\n",
       "      <td>https://www.bottle-neck.fr/?post_type=product&amp;...</td>\n",
       "      <td>0.0</td>\n",
       "      <td>product</td>\n",
       "      <td>NaN</td>\n",
       "      <td>0.0</td>\n",
       "    </tr>\n",
       "    <tr>\n",
       "      <th>2</th>\n",
       "      <td>15296</td>\n",
       "      <td>0</td>\n",
       "      <td>0</td>\n",
       "      <td>0</td>\n",
       "      <td>0.0</td>\n",
       "      <td>0.0</td>\n",
       "      <td>taxable</td>\n",
       "      <td>NaN</td>\n",
       "      <td>2.0</td>\n",
       "      <td>2018-02-08 13:49:41</td>\n",
       "      <td>...</td>\n",
       "      <td>pierre-jean-villa-saint-joseph-tilde-2017</td>\n",
       "      <td>2019-12-21 09:00:17</td>\n",
       "      <td>2019-12-21 08:00:17</td>\n",
       "      <td>NaN</td>\n",
       "      <td>0.0</td>\n",
       "      <td>https://www.bottle-neck.fr/?post_type=product&amp;...</td>\n",
       "      <td>0.0</td>\n",
       "      <td>product</td>\n",
       "      <td>NaN</td>\n",
       "      <td>0.0</td>\n",
       "    </tr>\n",
       "    <tr>\n",
       "      <th>3</th>\n",
       "      <td>15300</td>\n",
       "      <td>0</td>\n",
       "      <td>0</td>\n",
       "      <td>0</td>\n",
       "      <td>0.0</td>\n",
       "      <td>0.0</td>\n",
       "      <td>taxable</td>\n",
       "      <td>NaN</td>\n",
       "      <td>2.0</td>\n",
       "      <td>2018-02-08 14:08:36</td>\n",
       "      <td>...</td>\n",
       "      <td>pierre-jean-villa-croze-hermitage-accroche-coe...</td>\n",
       "      <td>2020-06-26 18:15:03</td>\n",
       "      <td>2020-06-26 16:15:03</td>\n",
       "      <td>NaN</td>\n",
       "      <td>0.0</td>\n",
       "      <td>https://www.bottle-neck.fr/?post_type=product&amp;...</td>\n",
       "      <td>0.0</td>\n",
       "      <td>product</td>\n",
       "      <td>NaN</td>\n",
       "      <td>0.0</td>\n",
       "    </tr>\n",
       "    <tr>\n",
       "      <th>4</th>\n",
       "      <td>19814</td>\n",
       "      <td>0</td>\n",
       "      <td>0</td>\n",
       "      <td>0</td>\n",
       "      <td>0.0</td>\n",
       "      <td>3.0</td>\n",
       "      <td>taxable</td>\n",
       "      <td>NaN</td>\n",
       "      <td>2.0</td>\n",
       "      <td>2018-02-09 14:01:05</td>\n",
       "      <td>...</td>\n",
       "      <td>pierre-jean-villa-igp-gamine-2018</td>\n",
       "      <td>2020-01-04 16:36:01</td>\n",
       "      <td>2020-01-04 15:36:01</td>\n",
       "      <td>NaN</td>\n",
       "      <td>0.0</td>\n",
       "      <td>https://www.bottle-neck.fr/?post_type=product&amp;...</td>\n",
       "      <td>0.0</td>\n",
       "      <td>product</td>\n",
       "      <td>NaN</td>\n",
       "      <td>0.0</td>\n",
       "    </tr>\n",
       "  </tbody>\n",
       "</table>\n",
       "<p>5 rows × 28 columns</p>\n",
       "</div>"
      ],
      "text/plain": [
       "                   sku  virtual  downloadable  rating_count  average_rating  \\\n",
       "0  bon-cadeau-25-euros        0             0             0             0.0   \n",
       "1                15298        0             0             0             0.0   \n",
       "2                15296        0             0             0             0.0   \n",
       "3                15300        0             0             0             0.0   \n",
       "4                19814        0             0             0             0.0   \n",
       "\n",
       "   total_sales tax_status  tax_class  post_author           post_date  ...  \\\n",
       "0         10.0    taxable        NaN          1.0 2018-06-01 13:53:46  ...   \n",
       "1          6.0    taxable        NaN          2.0 2018-02-08 12:58:52  ...   \n",
       "2          0.0    taxable        NaN          2.0 2018-02-08 13:49:41  ...   \n",
       "3          0.0    taxable        NaN          2.0 2018-02-08 14:08:36  ...   \n",
       "4          3.0    taxable        NaN          2.0 2018-02-09 14:01:05  ...   \n",
       "\n",
       "                                           post_name       post_modified  \\\n",
       "0                             bon-cadeau-de-25-euros 2018-06-01 14:13:57   \n",
       "1        pierre-jean-villa-saint-joseph-preface-2018 2019-12-30 09:30:29   \n",
       "2          pierre-jean-villa-saint-joseph-tilde-2017 2019-12-21 09:00:17   \n",
       "3  pierre-jean-villa-croze-hermitage-accroche-coe... 2020-06-26 18:15:03   \n",
       "4                  pierre-jean-villa-igp-gamine-2018 2020-01-04 16:36:01   \n",
       "\n",
       "    post_modified_gmt post_content_filtered post_parent  \\\n",
       "0 2018-06-01 12:13:57                   NaN         0.0   \n",
       "1 2019-12-30 08:30:29                   NaN         0.0   \n",
       "2 2019-12-21 08:00:17                   NaN         0.0   \n",
       "3 2020-06-26 16:15:03                   NaN         0.0   \n",
       "4 2020-01-04 15:36:01                   NaN         0.0   \n",
       "\n",
       "                                                guid menu_order  post_type  \\\n",
       "0  https://www.bottle-neck.fr/?post_type=product&...        0.0    product   \n",
       "1  https://www.bottle-neck.fr/?post_type=product&...        0.0    product   \n",
       "2  https://www.bottle-neck.fr/?post_type=product&...        0.0    product   \n",
       "3  https://www.bottle-neck.fr/?post_type=product&...        0.0    product   \n",
       "4  https://www.bottle-neck.fr/?post_type=product&...        0.0    product   \n",
       "\n",
       "  post_mime_type comment_count  \n",
       "0            NaN           0.0  \n",
       "1            NaN           0.0  \n",
       "2            NaN           0.0  \n",
       "3            NaN           0.0  \n",
       "4            NaN           0.0  \n",
       "\n",
       "[5 rows x 28 columns]"
      ]
     },
     "execution_count": 10,
     "metadata": {},
     "output_type": "execute_result"
    }
   ],
   "source": [
    "web.head()            # erreur lexicale dans la variables sku et post_name"
   ]
  },
  {
   "cell_type": "code",
   "execution_count": 11,
   "id": "3c0a90f4-efcc-44dd-bdf1-213c94b0222a",
   "metadata": {},
   "outputs": [
    {
     "name": "stdout",
     "output_type": "stream",
     "text": [
      "<class 'pandas.core.frame.DataFrame'>\n",
      "RangeIndex: 1513 entries, 0 to 1512\n",
      "Data columns (total 28 columns):\n",
      " #   Column                 Non-Null Count  Dtype         \n",
      "---  ------                 --------------  -----         \n",
      " 0   sku                    1428 non-null   object        \n",
      " 1   virtual                1513 non-null   int64         \n",
      " 2   downloadable           1513 non-null   int64         \n",
      " 3   rating_count           1513 non-null   int64         \n",
      " 4   average_rating         1430 non-null   float64       \n",
      " 5   total_sales            1430 non-null   float64       \n",
      " 6   tax_status             716 non-null    object        \n",
      " 7   tax_class              0 non-null      float64       \n",
      " 8   post_author            1430 non-null   float64       \n",
      " 9   post_date              1430 non-null   datetime64[ns]\n",
      " 10  post_date_gmt          1430 non-null   datetime64[ns]\n",
      " 11  post_content           0 non-null      float64       \n",
      " 12  post_title             1430 non-null   object        \n",
      " 13  post_excerpt           716 non-null    object        \n",
      " 14  post_status            1430 non-null   object        \n",
      " 15  comment_status         1430 non-null   object        \n",
      " 16  ping_status            1430 non-null   object        \n",
      " 17  post_password          0 non-null      float64       \n",
      " 18  post_name              1430 non-null   object        \n",
      " 19  post_modified          1430 non-null   datetime64[ns]\n",
      " 20  post_modified_gmt      1430 non-null   datetime64[ns]\n",
      " 21  post_content_filtered  0 non-null      float64       \n",
      " 22  post_parent            1430 non-null   float64       \n",
      " 23  guid                   1430 non-null   object        \n",
      " 24  menu_order             1430 non-null   float64       \n",
      " 25  post_type              1430 non-null   object        \n",
      " 26  post_mime_type         714 non-null    object        \n",
      " 27  comment_count          1430 non-null   float64       \n",
      "dtypes: datetime64[ns](4), float64(10), int64(3), object(11)\n",
      "memory usage: 331.1+ KB\n"
     ]
    }
   ],
   "source": [
    "web.info()"
   ]
  },
  {
   "cell_type": "markdown",
   "id": "b318d9cf-6a3e-466c-a27f-c1578f1e79aa",
   "metadata": {
    "jp-MarkdownHeadingCollapsed": true,
    "slideshow": {
     "slide_type": "slide"
    },
    "tags": []
   },
   "source": [
    "# 4-Netoyage des données"
   ]
  },
  {
   "cell_type": "markdown",
   "id": "34fc4f3f-f15b-4bb5-9dd7-82a0fcedcadf",
   "metadata": {
    "jp-MarkdownHeadingCollapsed": true,
    "slideshow": {
     "slide_type": "slide"
    },
    "tags": []
   },
   "source": [
    "## 4-1 Fichier erp"
   ]
  },
  {
   "cell_type": "markdown",
   "id": "276987f6-6b92-44df-949d-17f853da443b",
   "metadata": {
    "slideshow": {
     "slide_type": "subslide"
    }
   },
   "source": [
    "##### On cherche les doublons dans le fichier erp dans la variable product_id"
   ]
  },
  {
   "cell_type": "code",
   "execution_count": 12,
   "id": "b2a033f9-53e5-4c3c-ace5-8857a0ad41f5",
   "metadata": {
    "slideshow": {
     "slide_type": "subslide"
    }
   },
   "outputs": [
    {
     "data": {
      "text/plain": [
       "0"
      ]
     },
     "execution_count": 12,
     "metadata": {},
     "output_type": "execute_result"
    }
   ],
   "source": [
    "erp.duplicated('product_id').sum()     # pas de doublon tous les product_id sont uniques"
   ]
  },
  {
   "cell_type": "markdown",
   "id": "6c37e4ce-bbed-4fc8-893e-31853fd53a11",
   "metadata": {
    "slideshow": {
     "slide_type": "subslide"
    }
   },
   "source": [
    "##### on crée une nouvelle colonne en fonction des colonnes stock_quantity et stock_status pour vérifier si \n",
    "##### stock_status = 0 on a stock_status = outofstock et \n",
    "##### stock_status>0 on a stock_status = instock\n",
    "##### on crée une nouvelle colonnes selon le résultat des conditions sinon on met error"
   ]
  },
  {
   "cell_type": "code",
   "execution_count": 13,
   "id": "36f9ac2b-4084-411d-b2fb-1abdb6b75c8d",
   "metadata": {
    "slideshow": {
     "slide_type": "subslide"
    }
   },
   "outputs": [
    {
     "data": {
      "text/html": [
       "<div>\n",
       "<style scoped>\n",
       "    .dataframe tbody tr th:only-of-type {\n",
       "        vertical-align: middle;\n",
       "    }\n",
       "\n",
       "    .dataframe tbody tr th {\n",
       "        vertical-align: top;\n",
       "    }\n",
       "\n",
       "    .dataframe thead th {\n",
       "        text-align: right;\n",
       "    }\n",
       "</style>\n",
       "<table border=\"1\" class=\"dataframe\">\n",
       "  <thead>\n",
       "    <tr style=\"text-align: right;\">\n",
       "      <th></th>\n",
       "      <th>product_id</th>\n",
       "      <th>onsale_web</th>\n",
       "      <th>price</th>\n",
       "      <th>stock_quantity</th>\n",
       "      <th>stock_status</th>\n",
       "      <th>test_stock</th>\n",
       "    </tr>\n",
       "  </thead>\n",
       "  <tbody>\n",
       "    <tr>\n",
       "      <th>0</th>\n",
       "      <td>3847</td>\n",
       "      <td>1</td>\n",
       "      <td>24.2</td>\n",
       "      <td>0</td>\n",
       "      <td>outofstock</td>\n",
       "      <td>OK1</td>\n",
       "    </tr>\n",
       "    <tr>\n",
       "      <th>1</th>\n",
       "      <td>3849</td>\n",
       "      <td>1</td>\n",
       "      <td>34.3</td>\n",
       "      <td>0</td>\n",
       "      <td>outofstock</td>\n",
       "      <td>OK1</td>\n",
       "    </tr>\n",
       "    <tr>\n",
       "      <th>2</th>\n",
       "      <td>3850</td>\n",
       "      <td>1</td>\n",
       "      <td>20.8</td>\n",
       "      <td>0</td>\n",
       "      <td>outofstock</td>\n",
       "      <td>OK1</td>\n",
       "    </tr>\n",
       "    <tr>\n",
       "      <th>3</th>\n",
       "      <td>4032</td>\n",
       "      <td>1</td>\n",
       "      <td>14.1</td>\n",
       "      <td>0</td>\n",
       "      <td>outofstock</td>\n",
       "      <td>OK1</td>\n",
       "    </tr>\n",
       "    <tr>\n",
       "      <th>4</th>\n",
       "      <td>4039</td>\n",
       "      <td>1</td>\n",
       "      <td>46.0</td>\n",
       "      <td>0</td>\n",
       "      <td>outofstock</td>\n",
       "      <td>OK1</td>\n",
       "    </tr>\n",
       "  </tbody>\n",
       "</table>\n",
       "</div>"
      ],
      "text/plain": [
       "   product_id  onsale_web  price  stock_quantity stock_status test_stock\n",
       "0        3847           1   24.2               0   outofstock        OK1\n",
       "1        3849           1   34.3               0   outofstock        OK1\n",
       "2        3850           1   20.8               0   outofstock        OK1\n",
       "3        4032           1   14.1               0   outofstock        OK1\n",
       "4        4039           1   46.0               0   outofstock        OK1"
      ]
     },
     "execution_count": 13,
     "metadata": {},
     "output_type": "execute_result"
    }
   ],
   "source": [
    "conditions = [                                                                    #on crée les conditions \n",
    "                                                                                                        #stock_quantity = 0  alors stock_status= outofstock\n",
    "    erp['stock_quantity'].eq(0) & erp['stock_status'].eq('outofstock'),                                  #stock_quantity >0  alors stock_status= instock\n",
    "    erp['stock_quantity'].gt(0) & erp['stock_status'].eq('instock'),\n",
    "]\n",
    "\n",
    "choices = ['OK1','OK2']                                                          #le résultat si les conditions sont respectées\n",
    "\n",
    "erp['test_stock'] = np.select(conditions, choices, default='error')           #on crée une nouvelle colonnes selon le résultat des conditions sinon on met error\n",
    "erp.head()"
   ]
  },
  {
   "cell_type": "markdown",
   "id": "c9c4b1cd-e999-446c-99e0-1e5a1645716d",
   "metadata": {
    "slideshow": {
     "slide_type": "slide"
    }
   },
   "source": [
    "##### on cherche s'il ya des error dans la variable test_stock"
   ]
  },
  {
   "cell_type": "code",
   "execution_count": 14,
   "id": "33842873-eced-47ba-9475-ed01cae27fbb",
   "metadata": {
    "slideshow": {
     "slide_type": "subslide"
    }
   },
   "outputs": [
    {
     "data": {
      "text/plain": [
       "array(['OK1', 'OK2', 'error'], dtype=object)"
      ]
     },
     "execution_count": 14,
     "metadata": {},
     "output_type": "execute_result"
    }
   ],
   "source": [
    "erp['test_stock'].unique()"
   ]
  },
  {
   "cell_type": "markdown",
   "id": "206be646-3161-4679-bf58-e09db93d4564",
   "metadata": {
    "slideshow": {
     "slide_type": "subslide"
    }
   },
   "source": [
    "##### on filtre sur error"
   ]
  },
  {
   "cell_type": "code",
   "execution_count": 15,
   "id": "da45ef32-96c1-4003-b992-0266e3ddf3a6",
   "metadata": {
    "slideshow": {
     "slide_type": "subslide"
    }
   },
   "outputs": [
    {
     "data": {
      "text/html": [
       "<div>\n",
       "<style scoped>\n",
       "    .dataframe tbody tr th:only-of-type {\n",
       "        vertical-align: middle;\n",
       "    }\n",
       "\n",
       "    .dataframe tbody tr th {\n",
       "        vertical-align: top;\n",
       "    }\n",
       "\n",
       "    .dataframe thead th {\n",
       "        text-align: right;\n",
       "    }\n",
       "</style>\n",
       "<table border=\"1\" class=\"dataframe\">\n",
       "  <thead>\n",
       "    <tr style=\"text-align: right;\">\n",
       "      <th></th>\n",
       "      <th>product_id</th>\n",
       "      <th>onsale_web</th>\n",
       "      <th>price</th>\n",
       "      <th>stock_quantity</th>\n",
       "      <th>stock_status</th>\n",
       "      <th>test_stock</th>\n",
       "    </tr>\n",
       "  </thead>\n",
       "  <tbody>\n",
       "    <tr>\n",
       "      <th>443</th>\n",
       "      <td>4954</td>\n",
       "      <td>1</td>\n",
       "      <td>25.0</td>\n",
       "      <td>0</td>\n",
       "      <td>instock</td>\n",
       "      <td>error</td>\n",
       "    </tr>\n",
       "  </tbody>\n",
       "</table>\n",
       "</div>"
      ],
      "text/plain": [
       "     product_id  onsale_web  price  stock_quantity stock_status test_stock\n",
       "443        4954           1   25.0               0      instock      error"
      ]
     },
     "execution_count": 15,
     "metadata": {},
     "output_type": "execute_result"
    }
   ],
   "source": [
    "erp[erp['test_stock'] == 'error']                            "
   ]
  },
  {
   "cell_type": "markdown",
   "id": "9a6a5675-4e0a-47d1-845c-210228f3fc2a",
   "metadata": {
    "slideshow": {
     "slide_type": "slide"
    }
   },
   "source": [
    "##### on remplace la cellule [443, 'stock_status'] par outofstock"
   ]
  },
  {
   "cell_type": "code",
   "execution_count": 16,
   "id": "ca5c7a93-2dcb-47eb-85bd-68e99c5d1e34",
   "metadata": {
    "slideshow": {
     "slide_type": "subslide"
    }
   },
   "outputs": [],
   "source": [
    "erp.loc[443, 'stock_status'] = 'outofstock'                       "
   ]
  },
  {
   "cell_type": "markdown",
   "id": "d6dead36-f91e-4f0e-82de-5a62838a2d94",
   "metadata": {
    "slideshow": {
     "slide_type": "slide"
    }
   },
   "source": [
    "##### on refait le test pour vérifier qu'il n'y a plus error"
   ]
  },
  {
   "cell_type": "code",
   "execution_count": 17,
   "id": "69c7e62e-a563-409a-8310-f15a06ae57f7",
   "metadata": {
    "slideshow": {
     "slide_type": "subslide"
    }
   },
   "outputs": [
    {
     "data": {
      "text/html": [
       "<div>\n",
       "<style scoped>\n",
       "    .dataframe tbody tr th:only-of-type {\n",
       "        vertical-align: middle;\n",
       "    }\n",
       "\n",
       "    .dataframe tbody tr th {\n",
       "        vertical-align: top;\n",
       "    }\n",
       "\n",
       "    .dataframe thead th {\n",
       "        text-align: right;\n",
       "    }\n",
       "</style>\n",
       "<table border=\"1\" class=\"dataframe\">\n",
       "  <thead>\n",
       "    <tr style=\"text-align: right;\">\n",
       "      <th></th>\n",
       "      <th>product_id</th>\n",
       "      <th>onsale_web</th>\n",
       "      <th>price</th>\n",
       "      <th>stock_quantity</th>\n",
       "      <th>stock_status</th>\n",
       "      <th>test_stock</th>\n",
       "    </tr>\n",
       "  </thead>\n",
       "  <tbody>\n",
       "  </tbody>\n",
       "</table>\n",
       "</div>"
      ],
      "text/plain": [
       "Empty DataFrame\n",
       "Columns: [product_id, onsale_web, price, stock_quantity, stock_status, test_stock]\n",
       "Index: []"
      ]
     },
     "execution_count": 17,
     "metadata": {},
     "output_type": "execute_result"
    }
   ],
   "source": [
    "conditions = [                                                              \n",
    "                                                                                                        \n",
    "    erp['stock_quantity'].eq(0) & erp['stock_status'].eq('outofstock'),                                  \n",
    "    erp['stock_quantity'].gt(0) & erp['stock_status'].eq('instock'),\n",
    "]\n",
    "\n",
    "choices = ['OK1','OK2']                                                          \n",
    "erp['test_stock'] = np.select(conditions, choices, default='error')           \n",
    "erp[erp['test_stock'] == 'error']                                       #On filtre sur error pour vérifier le test"
   ]
  },
  {
   "cell_type": "markdown",
   "id": "1f0dfaf9-f8c6-47d2-ab49-8d1b510e4a46",
   "metadata": {
    "jp-MarkdownHeadingCollapsed": true,
    "slideshow": {
     "slide_type": "slide"
    },
    "tags": []
   },
   "source": [
    "## 4-2 Fichier web"
   ]
  },
  {
   "cell_type": "markdown",
   "id": "f48c4128-050a-4b63-99fc-aed143fca707",
   "metadata": {
    "slideshow": {
     "slide_type": "subslide"
    }
   },
   "source": [
    "##### on va remplacer la chaine de caractère 'bon-cadeau-25-euros' par un null dans la colonne sku"
   ]
  },
  {
   "cell_type": "code",
   "execution_count": 18,
   "id": "e5fac992-1eca-40db-97fd-03b535961fba",
   "metadata": {
    "slideshow": {
     "slide_type": "subslide"
    }
   },
   "outputs": [],
   "source": [
    "web['sku'] = web['sku'].replace('bon-cadeau-25-euros', np.nan)"
   ]
  },
  {
   "cell_type": "markdown",
   "id": "db4d3667-e062-4aab-bc22-0fb320042f8f",
   "metadata": {
    "slideshow": {
     "slide_type": "subslide"
    }
   },
   "source": [
    "##### on va remplacer la chaine de caractère bon-cadeau-de-25-euros par un null dans lacolonne post_name"
   ]
  },
  {
   "cell_type": "code",
   "execution_count": 19,
   "id": "f12740c2-30c1-4491-ae7c-97fa988a9b92",
   "metadata": {
    "slideshow": {
     "slide_type": "subslide"
    }
   },
   "outputs": [],
   "source": [
    "\n",
    "web['post_name'] = web['post_name'].replace('bon-cadeau-de-25-euros', np.nan)"
   ]
  },
  {
   "cell_type": "markdown",
   "id": "a6290ecf-3179-47ac-b0aa-b3a26e003de2",
   "metadata": {
    "slideshow": {
     "slide_type": "subslide"
    }
   },
   "source": [
    "##### cherchons les colonnes vides"
   ]
  },
  {
   "cell_type": "code",
   "execution_count": 20,
   "id": "2b19f54c-5647-4217-a7bf-f01092a6a4a5",
   "metadata": {
    "slideshow": {
     "slide_type": "subslide"
    }
   },
   "outputs": [
    {
     "data": {
      "text/plain": [
       "sku                        87\n",
       "virtual                     0\n",
       "downloadable                0\n",
       "rating_count                0\n",
       "average_rating             83\n",
       "total_sales                83\n",
       "tax_status                797\n",
       "tax_class                1513\n",
       "post_author                83\n",
       "post_date                  83\n",
       "post_date_gmt              83\n",
       "post_content             1513\n",
       "post_title                 83\n",
       "post_excerpt              797\n",
       "post_status                83\n",
       "comment_status             83\n",
       "ping_status                83\n",
       "post_password            1513\n",
       "post_name                  85\n",
       "post_modified              83\n",
       "post_modified_gmt          83\n",
       "post_content_filtered    1513\n",
       "post_parent                83\n",
       "guid                       83\n",
       "menu_order                 83\n",
       "post_type                  83\n",
       "post_mime_type            799\n",
       "comment_count              83\n",
       "dtype: int64"
      ]
     },
     "execution_count": 20,
     "metadata": {},
     "output_type": "execute_result"
    }
   ],
   "source": [
    "web.isnull().sum()"
   ]
  },
  {
   "cell_type": "markdown",
   "id": "0cac04c8-6445-47de-b499-b7dbc11f24ac",
   "metadata": {
    "slideshow": {
     "slide_type": "slide"
    }
   },
   "source": [
    "##### on supprime les colonnes vides"
   ]
  },
  {
   "cell_type": "code",
   "execution_count": 21,
   "id": "4859ea3d-4b18-4031-aa6b-f2069c8fe3a5",
   "metadata": {
    "slideshow": {
     "slide_type": "subslide"
    }
   },
   "outputs": [],
   "source": [
    "\n",
    "web.drop(columns = ['tax_class', 'post_content', 'post_password', 'post_content_filtered'], inplace = True)"
   ]
  },
  {
   "cell_type": "markdown",
   "id": "c23da1eb-6bb4-4187-95b4-8d0552e38d63",
   "metadata": {
    "slideshow": {
     "slide_type": "subslide"
    }
   },
   "source": [
    "##### on compte le nombre de doublon"
   ]
  },
  {
   "cell_type": "code",
   "execution_count": 22,
   "id": "f2deee14-71fe-44e1-91a5-840637fa3139",
   "metadata": {
    "slideshow": {
     "slide_type": "subslide"
    }
   },
   "outputs": [
    {
     "data": {
      "text/plain": [
       "799"
      ]
     },
     "execution_count": 22,
     "metadata": {},
     "output_type": "execute_result"
    }
   ],
   "source": [
    "\n",
    "web['sku'].duplicated().sum()"
   ]
  },
  {
   "cell_type": "markdown",
   "id": "b55e9d98-28ed-4161-9434-aa7ad3307a62",
   "metadata": {
    "slideshow": {
     "slide_type": "slide"
    }
   },
   "source": [
    "##### on filtre sur certains sku sur quelques colonnes pour vérifier si un produit est affiché deux fois avec un post_type produit et attachement* "
   ]
  },
  {
   "cell_type": "code",
   "execution_count": 23,
   "id": "1937ca90-d507-477e-b45e-45307346cb95",
   "metadata": {
    "slideshow": {
     "slide_type": "subslide"
    }
   },
   "outputs": [
    {
     "data": {
      "text/html": [
       "<div>\n",
       "<style scoped>\n",
       "    .dataframe tbody tr th:only-of-type {\n",
       "        vertical-align: middle;\n",
       "    }\n",
       "\n",
       "    .dataframe tbody tr th {\n",
       "        vertical-align: top;\n",
       "    }\n",
       "\n",
       "    .dataframe thead th {\n",
       "        text-align: right;\n",
       "    }\n",
       "</style>\n",
       "<table border=\"1\" class=\"dataframe\">\n",
       "  <thead>\n",
       "    <tr style=\"text-align: right;\">\n",
       "      <th></th>\n",
       "      <th>sku</th>\n",
       "      <th>post_type</th>\n",
       "      <th>post_mime_type</th>\n",
       "    </tr>\n",
       "  </thead>\n",
       "  <tbody>\n",
       "    <tr>\n",
       "      <th>1</th>\n",
       "      <td>15298</td>\n",
       "      <td>product</td>\n",
       "      <td>NaN</td>\n",
       "    </tr>\n",
       "    <tr>\n",
       "      <th>799</th>\n",
       "      <td>15298</td>\n",
       "      <td>attachment</td>\n",
       "      <td>image/jpeg</td>\n",
       "    </tr>\n",
       "  </tbody>\n",
       "</table>\n",
       "</div>"
      ],
      "text/plain": [
       "       sku   post_type post_mime_type\n",
       "1    15298     product            NaN\n",
       "799  15298  attachment     image/jpeg"
      ]
     },
     "execution_count": 23,
     "metadata": {},
     "output_type": "execute_result"
    }
   ],
   "source": [
    "\n",
    "web[web['sku']==15298].loc[:,['sku', 'post_type', 'post_mime_type']]"
   ]
  },
  {
   "cell_type": "code",
   "execution_count": 24,
   "id": "ac36484f-a480-4421-9f77-02b5b5b34207",
   "metadata": {
    "slideshow": {
     "slide_type": "subslide"
    }
   },
   "outputs": [
    {
     "data": {
      "text/html": [
       "<div>\n",
       "<style scoped>\n",
       "    .dataframe tbody tr th:only-of-type {\n",
       "        vertical-align: middle;\n",
       "    }\n",
       "\n",
       "    .dataframe tbody tr th {\n",
       "        vertical-align: top;\n",
       "    }\n",
       "\n",
       "    .dataframe thead th {\n",
       "        text-align: right;\n",
       "    }\n",
       "</style>\n",
       "<table border=\"1\" class=\"dataframe\">\n",
       "  <thead>\n",
       "    <tr style=\"text-align: right;\">\n",
       "      <th></th>\n",
       "      <th>sku</th>\n",
       "      <th>post_type</th>\n",
       "      <th>post_mime_type</th>\n",
       "    </tr>\n",
       "  </thead>\n",
       "  <tbody>\n",
       "    <tr>\n",
       "      <th>2</th>\n",
       "      <td>15296</td>\n",
       "      <td>product</td>\n",
       "      <td>NaN</td>\n",
       "    </tr>\n",
       "    <tr>\n",
       "      <th>800</th>\n",
       "      <td>15296</td>\n",
       "      <td>attachment</td>\n",
       "      <td>image/jpeg</td>\n",
       "    </tr>\n",
       "  </tbody>\n",
       "</table>\n",
       "</div>"
      ],
      "text/plain": [
       "       sku   post_type post_mime_type\n",
       "2    15296     product            NaN\n",
       "800  15296  attachment     image/jpeg"
      ]
     },
     "execution_count": 24,
     "metadata": {},
     "output_type": "execute_result"
    }
   ],
   "source": [
    "web[web['sku']==15296].loc[:,['sku', 'post_type', 'post_mime_type']]"
   ]
  },
  {
   "cell_type": "markdown",
   "id": "87b228bc-75f9-4f69-93d7-8d363cf174e7",
   "metadata": {
    "slideshow": {
     "slide_type": "slide"
    }
   },
   "source": [
    "##### On récupère les index pour lesquels la colonne post_type a une valeur attachment\n",
    "##### ensuite on supprimez ces index de lignes du dataFrame\n",
    "##### enfin on vérifie les entrée unique dans la variable post_type"
   ]
  },
  {
   "cell_type": "code",
   "execution_count": 25,
   "id": "544a3942-8988-4142-a06c-1196c883f3df",
   "metadata": {
    "slideshow": {
     "slide_type": "subslide"
    }
   },
   "outputs": [
    {
     "data": {
      "text/plain": [
       "array(['product', nan], dtype=object)"
      ]
     },
     "execution_count": 25,
     "metadata": {},
     "output_type": "execute_result"
    }
   ],
   "source": [
    "indexNames = web[ web['post_type'] == 'attachment' ].index         \n",
    "web.drop(indexNames , inplace=True)\n",
    "web['post_type'].unique() "
   ]
  },
  {
   "cell_type": "markdown",
   "id": "b7902aa1-8203-4dc2-bf2e-273a40df585c",
   "metadata": {
    "slideshow": {
     "slide_type": "slide"
    }
   },
   "source": [
    "##### on met dans une variable toutes les valeur null de sku"
   ]
  },
  {
   "cell_type": "code",
   "execution_count": 26,
   "id": "ae671693-6fe8-4ae7-9823-628ae8f02078",
   "metadata": {
    "slideshow": {
     "slide_type": "subslide"
    }
   },
   "outputs": [],
   "source": [
    "web_nan_values = web[web['sku'].isna()]"
   ]
  },
  {
   "cell_type": "markdown",
   "id": "59f05264-c1ed-4293-aed2-42834601f821",
   "metadata": {
    "slideshow": {
     "slide_type": "slide"
    }
   },
   "source": [
    "##### on filtre sur les lignes dont total_sales est superieur a zero"
   ]
  },
  {
   "cell_type": "code",
   "execution_count": 27,
   "id": "13f11000-62b9-4601-b5ee-6c840cace08d",
   "metadata": {
    "slideshow": {
     "slide_type": "subslide"
    }
   },
   "outputs": [],
   "source": [
    "web_nan_values_filtered=web_nan_values[web_nan_values['total_sales'].gt(0)]"
   ]
  },
  {
   "cell_type": "markdown",
   "id": "6f70b9a9-5538-4b73-96b3-5d91f30fc314",
   "metadata": {
    "slideshow": {
     "slide_type": "slide"
    }
   },
   "source": [
    "##### on filtre sur l'indexe dont les ventes sont supérieurs à zero"
   ]
  },
  {
   "cell_type": "code",
   "execution_count": 28,
   "id": "64143436-be90-4d81-bf8a-cbb1eeb7e594",
   "metadata": {
    "slideshow": {
     "slide_type": "subslide"
    }
   },
   "outputs": [
    {
     "name": "stdout",
     "output_type": "stream",
     "text": [
      "https://www.bottle-neck.fr/?post_type=product&#038;p=4954\n"
     ]
    }
   ],
   "source": [
    "x= web_nan_values['guid']\n",
    "print(x[0])"
   ]
  },
  {
   "cell_type": "markdown",
   "id": "14ce87ce-98c4-44de-9af9-72036aee9fca",
   "metadata": {
    "slideshow": {
     "slide_type": "slide"
    }
   },
   "source": [
    "#### on recupere le sku du produit dans une variable\n",
    "\n"
   ]
  },
  {
   "cell_type": "code",
   "execution_count": 70,
   "id": "32b0c1d4-d30f-431d-b932-9b9efb7b3fa8",
   "metadata": {
    "slideshow": {
     "slide_type": "subslide"
    }
   },
   "outputs": [
    {
     "data": {
      "text/html": [
       "<div>\n",
       "<style scoped>\n",
       "    .dataframe tbody tr th:only-of-type {\n",
       "        vertical-align: middle;\n",
       "    }\n",
       "\n",
       "    .dataframe tbody tr th {\n",
       "        vertical-align: top;\n",
       "    }\n",
       "\n",
       "    .dataframe thead th {\n",
       "        text-align: right;\n",
       "    }\n",
       "</style>\n",
       "<table border=\"1\" class=\"dataframe\">\n",
       "  <thead>\n",
       "    <tr style=\"text-align: right;\">\n",
       "      <th></th>\n",
       "      <th>sku</th>\n",
       "      <th>virtual</th>\n",
       "      <th>downloadable</th>\n",
       "      <th>rating_count</th>\n",
       "      <th>average_rating</th>\n",
       "      <th>total_sales</th>\n",
       "      <th>tax_status</th>\n",
       "      <th>post_author</th>\n",
       "      <th>post_date</th>\n",
       "      <th>post_date_gmt</th>\n",
       "      <th>...</th>\n",
       "      <th>post_name</th>\n",
       "      <th>post_modified</th>\n",
       "      <th>post_modified_gmt</th>\n",
       "      <th>post_parent</th>\n",
       "      <th>guid</th>\n",
       "      <th>menu_order</th>\n",
       "      <th>post_type</th>\n",
       "      <th>post_mime_type</th>\n",
       "      <th>comment_count</th>\n",
       "      <th>TMP</th>\n",
       "    </tr>\n",
       "  </thead>\n",
       "  <tbody>\n",
       "    <tr>\n",
       "      <th>0</th>\n",
       "      <td>4954</td>\n",
       "      <td>0</td>\n",
       "      <td>0</td>\n",
       "      <td>0</td>\n",
       "      <td>0.0</td>\n",
       "      <td>10.0</td>\n",
       "      <td>taxable</td>\n",
       "      <td>1.0</td>\n",
       "      <td>2018-06-01 13:53:46</td>\n",
       "      <td>2018-06-01 11:53:46</td>\n",
       "      <td>...</td>\n",
       "      <td>NaN</td>\n",
       "      <td>2018-06-01 14:13:57</td>\n",
       "      <td>2018-06-01 12:13:57</td>\n",
       "      <td>0.0</td>\n",
       "      <td>https://www.bottle-neck.fr/?post_type=product&amp;...</td>\n",
       "      <td>0.0</td>\n",
       "      <td>product</td>\n",
       "      <td>NaN</td>\n",
       "      <td>0.0</td>\n",
       "      <td>53</td>\n",
       "    </tr>\n",
       "  </tbody>\n",
       "</table>\n",
       "<p>1 rows × 25 columns</p>\n",
       "</div>"
      ],
      "text/plain": [
       "    sku  virtual  downloadable  rating_count  average_rating  total_sales  \\\n",
       "0  4954        0             0             0             0.0         10.0   \n",
       "\n",
       "  tax_status  post_author           post_date       post_date_gmt  ...  \\\n",
       "0    taxable          1.0 2018-06-01 13:53:46 2018-06-01 11:53:46  ...   \n",
       "\n",
       "  post_name       post_modified   post_modified_gmt post_parent  \\\n",
       "0       NaN 2018-06-01 14:13:57 2018-06-01 12:13:57         0.0   \n",
       "\n",
       "                                                guid menu_order post_type  \\\n",
       "0  https://www.bottle-neck.fr/?post_type=product&...        0.0   product   \n",
       "\n",
       "  post_mime_type  comment_count TMP  \n",
       "0            NaN            0.0  53  \n",
       "\n",
       "[1 rows x 25 columns]"
      ]
     },
     "execution_count": 70,
     "metadata": {},
     "output_type": "execute_result"
    }
   ],
   "source": [
    "# substring à rechercher \n",
    "sub ='p='               \n",
    " \n",
    "# dans une nouvelle colonne on met la position de la variable sub \n",
    "\n",
    "web_nan_values_filtered[\"position_sub\"]= web_nan_values_filtered[\"guid\"].str.index(sub) + 2 \n",
    "\n",
    "web_nan_values_filtered[\"position_sub\"].astype(int)        #changer le type en int\n",
    "\n",
    "for i in range(0, len(web_nan_values_filtered)):\n",
    "    web_nan_values_filtered['sku'].iloc[i] = web_nan_values_filtered.iloc[i].guid[web_nan_values_filtered['position_sub'].iloc[i]:]\n",
    "  \n",
    "     #on coupe la colone guide à partir de position_sub jusqu'à la fin ensuite on affecte le resultat de chaque ligne au Sku \n",
    "\n",
    "web_nan_values_filtered.drop(columns = \"position_sub\" )\n"
   ]
  },
  {
   "cell_type": "markdown",
   "id": "e57f9070-b5b9-4cb1-ab6b-62b7d8569deb",
   "metadata": {
    "slideshow": {
     "slide_type": "slide"
    }
   },
   "source": [
    "##### on fait une concat entre web_nan_values_filtered et web"
   ]
  },
  {
   "cell_type": "code",
   "execution_count": 30,
   "id": "2eb1dad9-0a1b-4dcb-9d6b-88ef4af6f55c",
   "metadata": {
    "slideshow": {
     "slide_type": "subslide"
    }
   },
   "outputs": [],
   "source": [
    "web=pd.concat([web_nan_values_filtered, web])"
   ]
  },
  {
   "cell_type": "markdown",
   "id": "6795346c-e76f-4e56-8b9a-199c08231bf5",
   "metadata": {
    "slideshow": {
     "slide_type": "subslide"
    }
   },
   "source": [
    "##### on supprime les null de sku"
   ]
  },
  {
   "cell_type": "code",
   "execution_count": 31,
   "id": "6e3c5022-15c0-4e97-899b-36ab06298f16",
   "metadata": {
    "slideshow": {
     "slide_type": "subslide"
    }
   },
   "outputs": [],
   "source": [
    "web = web.dropna(subset=['sku'])"
   ]
  },
  {
   "cell_type": "markdown",
   "id": "7ef198b4-bcc4-45e5-af8e-fd0c5512af25",
   "metadata": {
    "slideshow": {
     "slide_type": "subslide"
    }
   },
   "source": [
    "##### on verifie s'il ya des doublons "
   ]
  },
  {
   "cell_type": "code",
   "execution_count": 32,
   "id": "ea8cf18e-10b8-484f-bce7-4a961899a5e5",
   "metadata": {
    "slideshow": {
     "slide_type": "subslide"
    }
   },
   "outputs": [
    {
     "data": {
      "text/plain": [
       "0"
      ]
     },
     "execution_count": 32,
     "metadata": {},
     "output_type": "execute_result"
    }
   ],
   "source": [
    "web.duplicated('sku').sum()"
   ]
  },
  {
   "cell_type": "markdown",
   "id": "826d38e2-dc4b-4251-bc86-7c6dc6cf7ded",
   "metadata": {
    "jp-MarkdownHeadingCollapsed": true,
    "slideshow": {
     "slide_type": "slide"
    },
    "tags": []
   },
   "source": [
    "## 4-3 Fichier Liaison"
   ]
  },
  {
   "cell_type": "code",
   "execution_count": 33,
   "id": "a371782c-522d-423f-8daf-9ac2bd3f397d",
   "metadata": {
    "slideshow": {
     "slide_type": "subslide"
    }
   },
   "outputs": [
    {
     "data": {
      "text/html": [
       "<div>\n",
       "<style scoped>\n",
       "    .dataframe tbody tr th:only-of-type {\n",
       "        vertical-align: middle;\n",
       "    }\n",
       "\n",
       "    .dataframe tbody tr th {\n",
       "        vertical-align: top;\n",
       "    }\n",
       "\n",
       "    .dataframe thead th {\n",
       "        text-align: right;\n",
       "    }\n",
       "</style>\n",
       "<table border=\"1\" class=\"dataframe\">\n",
       "  <thead>\n",
       "    <tr style=\"text-align: right;\">\n",
       "      <th></th>\n",
       "      <th>product_id</th>\n",
       "      <th>id_web</th>\n",
       "    </tr>\n",
       "  </thead>\n",
       "  <tbody>\n",
       "    <tr>\n",
       "      <th>820</th>\n",
       "      <td>7203</td>\n",
       "      <td>NaN</td>\n",
       "    </tr>\n",
       "    <tr>\n",
       "      <th>821</th>\n",
       "      <td>7204</td>\n",
       "      <td>NaN</td>\n",
       "    </tr>\n",
       "    <tr>\n",
       "      <th>822</th>\n",
       "      <td>7247</td>\n",
       "      <td>13127-1</td>\n",
       "    </tr>\n",
       "    <tr>\n",
       "      <th>823</th>\n",
       "      <td>7329</td>\n",
       "      <td>14680-1</td>\n",
       "    </tr>\n",
       "    <tr>\n",
       "      <th>824</th>\n",
       "      <td>7338</td>\n",
       "      <td>16230</td>\n",
       "    </tr>\n",
       "  </tbody>\n",
       "</table>\n",
       "</div>"
      ],
      "text/plain": [
       "     product_id   id_web\n",
       "820        7203      NaN\n",
       "821        7204      NaN\n",
       "822        7247  13127-1\n",
       "823        7329  14680-1\n",
       "824        7338    16230"
      ]
     },
     "execution_count": 33,
     "metadata": {},
     "output_type": "execute_result"
    }
   ],
   "source": [
    "liaison.tail()"
   ]
  },
  {
   "cell_type": "markdown",
   "id": "19e5a00a-de3e-47c1-a1a8-57fe7482749c",
   "metadata": {
    "slideshow": {
     "slide_type": "slide"
    }
   },
   "source": [
    "##### on recherche les doublons de product_id"
   ]
  },
  {
   "cell_type": "code",
   "execution_count": 34,
   "id": "d9deb13c-3477-4be0-bec5-cc24099d2003",
   "metadata": {
    "slideshow": {
     "slide_type": "subslide"
    }
   },
   "outputs": [
    {
     "data": {
      "text/plain": [
       "0"
      ]
     },
     "execution_count": 34,
     "metadata": {},
     "output_type": "execute_result"
    }
   ],
   "source": [
    "liaison.duplicated('product_id').sum()                    "
   ]
  },
  {
   "cell_type": "markdown",
   "id": "033d3da4-7578-42ed-b0f8-c2c584e3865a",
   "metadata": {
    "slideshow": {
     "slide_type": "subslide"
    }
   },
   "source": [
    "##### on recherche les doublons de id_web"
   ]
  },
  {
   "cell_type": "code",
   "execution_count": 35,
   "id": "ed7df701-86bd-40a4-b279-c188a9c18e06",
   "metadata": {
    "slideshow": {
     "slide_type": "subslide"
    }
   },
   "outputs": [
    {
     "data": {
      "text/plain": [
       "90"
      ]
     },
     "execution_count": 35,
     "metadata": {},
     "output_type": "execute_result"
    }
   ],
   "source": [
    "liaison.duplicated('id_web').sum()                      "
   ]
  },
  {
   "cell_type": "markdown",
   "id": "219538f0-1d99-4bc7-b486-ad3e97aa84cb",
   "metadata": {
    "slideshow": {
     "slide_type": "slide"
    }
   },
   "source": [
    "##### on affecte dans une nouvelle variable les nulls de id_web"
   ]
  },
  {
   "cell_type": "code",
   "execution_count": 36,
   "id": "92736ac1-3726-4285-b8d0-fc091f2bca86",
   "metadata": {
    "slideshow": {
     "slide_type": "subslide"
    }
   },
   "outputs": [],
   "source": [
    "liaison_nan_values = liaison[liaison['id_web'].isna()]"
   ]
  },
  {
   "cell_type": "markdown",
   "id": "c5925c7f-c20a-427c-9edc-a6cd13744705",
   "metadata": {
    "slideshow": {
     "slide_type": "slide"
    }
   },
   "source": [
    "##### on supprime les nulls dans le dataframe liaison"
   ]
  },
  {
   "cell_type": "code",
   "execution_count": 37,
   "id": "63c36181-618c-49fb-b700-675ba1ea69a6",
   "metadata": {
    "slideshow": {
     "slide_type": "subslide"
    }
   },
   "outputs": [],
   "source": [
    "liaison = liaison.dropna(subset=['id_web'])                 "
   ]
  },
  {
   "cell_type": "markdown",
   "id": "ce683755-01cb-41ac-bde6-d16730f84139",
   "metadata": {
    "jp-MarkdownHeadingCollapsed": true,
    "slideshow": {
     "slide_type": "slide"
    },
    "tags": []
   },
   "source": [
    "# 5-Rapprochement entre erp et web"
   ]
  },
  {
   "cell_type": "markdown",
   "id": "139d4841-10ad-414a-80d7-1a8083779611",
   "metadata": {
    "slideshow": {
     "slide_type": "slide"
    }
   },
   "source": [
    "##### faisons dabord un merge entre erp et liaison"
   ]
  },
  {
   "cell_type": "code",
   "execution_count": 38,
   "id": "0e3bd7f4-1f6e-4979-b812-4031b09dff1e",
   "metadata": {
    "slideshow": {
     "slide_type": "subslide"
    }
   },
   "outputs": [],
   "source": [
    "erp_liaison = erp.merge(liaison, on = 'product_id')"
   ]
  },
  {
   "cell_type": "markdown",
   "id": "5d5dc87e-f39d-4c4a-9d64-b7c44187dd57",
   "metadata": {
    "slideshow": {
     "slide_type": "slide"
    }
   },
   "source": [
    "##### modifions le nom de la colonne sku par id_web"
   ]
  },
  {
   "cell_type": "code",
   "execution_count": 39,
   "id": "b4581240-0628-4273-9058-21daa5888276",
   "metadata": {
    "slideshow": {
     "slide_type": "subslide"
    }
   },
   "outputs": [],
   "source": [
    "web.rename(columns={'sku': 'id_web'}, inplace= True)"
   ]
  },
  {
   "cell_type": "markdown",
   "id": "5e6bb8ee-1dc3-48d3-8a86-41787594ddf1",
   "metadata": {
    "slideshow": {
     "slide_type": "slide"
    }
   },
   "source": [
    "##### joignons la table erp_liaison par la table web"
   ]
  },
  {
   "cell_type": "code",
   "execution_count": 40,
   "id": "12c83169-c517-4310-9936-f559867019c4",
   "metadata": {
    "slideshow": {
     "slide_type": "subslide"
    }
   },
   "outputs": [],
   "source": [
    "erp_web = erp_liaison.merge(web, on = 'id_web')"
   ]
  },
  {
   "cell_type": "code",
   "execution_count": 41,
   "id": "013be1c2-d0ad-4589-91e6-705abb536c39",
   "metadata": {
    "slideshow": {
     "slide_type": "subslide"
    }
   },
   "outputs": [
    {
     "data": {
      "text/html": [
       "<div>\n",
       "<style scoped>\n",
       "    .dataframe tbody tr th:only-of-type {\n",
       "        vertical-align: middle;\n",
       "    }\n",
       "\n",
       "    .dataframe tbody tr th {\n",
       "        vertical-align: top;\n",
       "    }\n",
       "\n",
       "    .dataframe thead th {\n",
       "        text-align: right;\n",
       "    }\n",
       "</style>\n",
       "<table border=\"1\" class=\"dataframe\">\n",
       "  <thead>\n",
       "    <tr style=\"text-align: right;\">\n",
       "      <th></th>\n",
       "      <th>product_id</th>\n",
       "      <th>onsale_web</th>\n",
       "      <th>price</th>\n",
       "      <th>stock_quantity</th>\n",
       "      <th>stock_status</th>\n",
       "      <th>test_stock</th>\n",
       "      <th>id_web</th>\n",
       "      <th>virtual</th>\n",
       "      <th>downloadable</th>\n",
       "      <th>rating_count</th>\n",
       "      <th>...</th>\n",
       "      <th>post_name</th>\n",
       "      <th>post_modified</th>\n",
       "      <th>post_modified_gmt</th>\n",
       "      <th>post_parent</th>\n",
       "      <th>guid</th>\n",
       "      <th>menu_order</th>\n",
       "      <th>post_type</th>\n",
       "      <th>post_mime_type</th>\n",
       "      <th>comment_count</th>\n",
       "      <th>TMP</th>\n",
       "    </tr>\n",
       "  </thead>\n",
       "  <tbody>\n",
       "    <tr>\n",
       "      <th>0</th>\n",
       "      <td>3847</td>\n",
       "      <td>1</td>\n",
       "      <td>24.2</td>\n",
       "      <td>0</td>\n",
       "      <td>outofstock</td>\n",
       "      <td>OK1</td>\n",
       "      <td>15298</td>\n",
       "      <td>0</td>\n",
       "      <td>0</td>\n",
       "      <td>0</td>\n",
       "      <td>...</td>\n",
       "      <td>pierre-jean-villa-saint-joseph-preface-2018</td>\n",
       "      <td>2019-12-30 09:30:29</td>\n",
       "      <td>2019-12-30 08:30:29</td>\n",
       "      <td>0.0</td>\n",
       "      <td>https://www.bottle-neck.fr/?post_type=product&amp;...</td>\n",
       "      <td>0.0</td>\n",
       "      <td>product</td>\n",
       "      <td>NaN</td>\n",
       "      <td>0.0</td>\n",
       "      <td>NaN</td>\n",
       "    </tr>\n",
       "    <tr>\n",
       "      <th>1</th>\n",
       "      <td>3849</td>\n",
       "      <td>1</td>\n",
       "      <td>34.3</td>\n",
       "      <td>0</td>\n",
       "      <td>outofstock</td>\n",
       "      <td>OK1</td>\n",
       "      <td>15296</td>\n",
       "      <td>0</td>\n",
       "      <td>0</td>\n",
       "      <td>0</td>\n",
       "      <td>...</td>\n",
       "      <td>pierre-jean-villa-saint-joseph-tilde-2017</td>\n",
       "      <td>2019-12-21 09:00:17</td>\n",
       "      <td>2019-12-21 08:00:17</td>\n",
       "      <td>0.0</td>\n",
       "      <td>https://www.bottle-neck.fr/?post_type=product&amp;...</td>\n",
       "      <td>0.0</td>\n",
       "      <td>product</td>\n",
       "      <td>NaN</td>\n",
       "      <td>0.0</td>\n",
       "      <td>NaN</td>\n",
       "    </tr>\n",
       "  </tbody>\n",
       "</table>\n",
       "<p>2 rows × 31 columns</p>\n",
       "</div>"
      ],
      "text/plain": [
       "   product_id  onsale_web  price  stock_quantity stock_status test_stock  \\\n",
       "0        3847           1   24.2               0   outofstock        OK1   \n",
       "1        3849           1   34.3               0   outofstock        OK1   \n",
       "\n",
       "  id_web  virtual  downloadable  rating_count  ...  \\\n",
       "0  15298        0             0             0  ...   \n",
       "1  15296        0             0             0  ...   \n",
       "\n",
       "                                     post_name       post_modified  \\\n",
       "0  pierre-jean-villa-saint-joseph-preface-2018 2019-12-30 09:30:29   \n",
       "1    pierre-jean-villa-saint-joseph-tilde-2017 2019-12-21 09:00:17   \n",
       "\n",
       "    post_modified_gmt  post_parent  \\\n",
       "0 2019-12-30 08:30:29          0.0   \n",
       "1 2019-12-21 08:00:17          0.0   \n",
       "\n",
       "                                                guid menu_order post_type  \\\n",
       "0  https://www.bottle-neck.fr/?post_type=product&...        0.0   product   \n",
       "1  https://www.bottle-neck.fr/?post_type=product&...        0.0   product   \n",
       "\n",
       "  post_mime_type comment_count TMP  \n",
       "0            NaN           0.0 NaN  \n",
       "1            NaN           0.0 NaN  \n",
       "\n",
       "[2 rows x 31 columns]"
      ]
     },
     "execution_count": 41,
     "metadata": {},
     "output_type": "execute_result"
    }
   ],
   "source": [
    "erp_web.head(2)"
   ]
  },
  {
   "cell_type": "markdown",
   "id": "9ce8dcdb-85f6-4b15-b4fd-03cd41789f2c",
   "metadata": {
    "jp-MarkdownHeadingCollapsed": true,
    "slideshow": {
     "slide_type": "slide"
    },
    "tags": []
   },
   "source": [
    "# 6-Calcul du Chiffre d'Affaire"
   ]
  },
  {
   "cell_type": "markdown",
   "id": "997a2b95-f60a-4349-bdc3-ab6dc7bcb422",
   "metadata": {
    "jp-MarkdownHeadingCollapsed": true,
    "slideshow": {
     "slide_type": "slide"
    },
    "tags": []
   },
   "source": [
    "## 6-1 Chiffre d'Affaire par produit"
   ]
  },
  {
   "cell_type": "markdown",
   "id": "7f21afa3-80f3-4beb-b3b8-3ae269153d6e",
   "metadata": {
    "slideshow": {
     "slide_type": "subslide"
    }
   },
   "source": [
    "##### calculons le chiffre d'affaire par produit "
   ]
  },
  {
   "cell_type": "code",
   "execution_count": 42,
   "id": "b77c48fe-8e75-48ab-96a5-a58881c2ad07",
   "metadata": {
    "slideshow": {
     "slide_type": "subslide"
    }
   },
   "outputs": [
    {
     "data": {
      "text/html": [
       "<div>\n",
       "<style scoped>\n",
       "    .dataframe tbody tr th:only-of-type {\n",
       "        vertical-align: middle;\n",
       "    }\n",
       "\n",
       "    .dataframe tbody tr th {\n",
       "        vertical-align: top;\n",
       "    }\n",
       "\n",
       "    .dataframe thead th {\n",
       "        text-align: right;\n",
       "    }\n",
       "</style>\n",
       "<table border=\"1\" class=\"dataframe\">\n",
       "  <thead>\n",
       "    <tr style=\"text-align: right;\">\n",
       "      <th></th>\n",
       "      <th>product_id</th>\n",
       "      <th>onsale_web</th>\n",
       "      <th>price</th>\n",
       "      <th>stock_quantity</th>\n",
       "      <th>stock_status</th>\n",
       "      <th>test_stock</th>\n",
       "      <th>id_web</th>\n",
       "      <th>virtual</th>\n",
       "      <th>downloadable</th>\n",
       "      <th>rating_count</th>\n",
       "      <th>...</th>\n",
       "      <th>post_modified</th>\n",
       "      <th>post_modified_gmt</th>\n",
       "      <th>post_parent</th>\n",
       "      <th>guid</th>\n",
       "      <th>menu_order</th>\n",
       "      <th>post_type</th>\n",
       "      <th>post_mime_type</th>\n",
       "      <th>comment_count</th>\n",
       "      <th>TMP</th>\n",
       "      <th>CA_par_produit</th>\n",
       "    </tr>\n",
       "  </thead>\n",
       "  <tbody>\n",
       "    <tr>\n",
       "      <th>0</th>\n",
       "      <td>3847</td>\n",
       "      <td>1</td>\n",
       "      <td>24.2</td>\n",
       "      <td>0</td>\n",
       "      <td>outofstock</td>\n",
       "      <td>OK1</td>\n",
       "      <td>15298</td>\n",
       "      <td>0</td>\n",
       "      <td>0</td>\n",
       "      <td>0</td>\n",
       "      <td>...</td>\n",
       "      <td>2019-12-30 09:30:29</td>\n",
       "      <td>2019-12-30 08:30:29</td>\n",
       "      <td>0.0</td>\n",
       "      <td>https://www.bottle-neck.fr/?post_type=product&amp;...</td>\n",
       "      <td>0.0</td>\n",
       "      <td>product</td>\n",
       "      <td>NaN</td>\n",
       "      <td>0.0</td>\n",
       "      <td>NaN</td>\n",
       "      <td>145.2</td>\n",
       "    </tr>\n",
       "  </tbody>\n",
       "</table>\n",
       "<p>1 rows × 32 columns</p>\n",
       "</div>"
      ],
      "text/plain": [
       "   product_id  onsale_web  price  stock_quantity stock_status test_stock  \\\n",
       "0        3847           1   24.2               0   outofstock        OK1   \n",
       "\n",
       "  id_web  virtual  downloadable  rating_count  ...       post_modified  \\\n",
       "0  15298        0             0             0  ... 2019-12-30 09:30:29   \n",
       "\n",
       "    post_modified_gmt post_parent  \\\n",
       "0 2019-12-30 08:30:29         0.0   \n",
       "\n",
       "                                                guid menu_order post_type  \\\n",
       "0  https://www.bottle-neck.fr/?post_type=product&...        0.0   product   \n",
       "\n",
       "  post_mime_type comment_count TMP CA_par_produit  \n",
       "0            NaN           0.0 NaN          145.2  \n",
       "\n",
       "[1 rows x 32 columns]"
      ]
     },
     "execution_count": 42,
     "metadata": {},
     "output_type": "execute_result"
    }
   ],
   "source": [
    "erp_web['CA_par_produit'] = erp_web['price']* erp_web['total_sales']\n",
    "erp_web.head(1)"
   ]
  },
  {
   "cell_type": "markdown",
   "id": "53f00a30-e925-4647-969e-147d0168fb15",
   "metadata": {
    "jp-MarkdownHeadingCollapsed": true,
    "slideshow": {
     "slide_type": "slide"
    },
    "tags": []
   },
   "source": [
    "## 6-2 Chiffre d'Affaire total"
   ]
  },
  {
   "cell_type": "code",
   "execution_count": 43,
   "id": "5fd6c578-f187-429b-90e6-72132636f57d",
   "metadata": {
    "slideshow": {
     "slide_type": "subslide"
    }
   },
   "outputs": [],
   "source": [
    "ca_Total = erp_web['CA_par_produit'].sum()"
   ]
  },
  {
   "cell_type": "code",
   "execution_count": 44,
   "id": "94a6fad7-947e-4c08-9a4a-7c36a53a1054",
   "metadata": {
    "slideshow": {
     "slide_type": "subslide"
    }
   },
   "outputs": [
    {
     "name": "stdout",
     "output_type": "stream",
     "text": [
      "le Chiffre d'Affaire total est de 70318.6\n"
     ]
    }
   ],
   "source": [
    "print(\"le Chiffre d'Affaire total est de\", ca_Total)"
   ]
  },
  {
   "cell_type": "markdown",
   "id": "43e276c8-7048-4c5f-b9fd-d23842e8d6c2",
   "metadata": {
    "jp-MarkdownHeadingCollapsed": true,
    "slideshow": {
     "slide_type": "slide"
    },
    "tags": []
   },
   "source": [
    "# 7-Analyse des outliers"
   ]
  },
  {
   "cell_type": "markdown",
   "id": "6fb61d47-69c7-4813-9c64-07a3859c46c0",
   "metadata": {
    "jp-MarkdownHeadingCollapsed": true,
    "slideshow": {
     "slide_type": "slide"
    },
    "tags": []
   },
   "source": [
    "## 7-1 La méthode graphique"
   ]
  },
  {
   "cell_type": "code",
   "execution_count": 45,
   "id": "9f0e489d-d8d0-4f94-8c4b-1402cc67600f",
   "metadata": {
    "slideshow": {
     "slide_type": "slide"
    }
   },
   "outputs": [
    {
     "data": {
      "text/plain": [
       "<AxesSubplot:>"
      ]
     },
     "execution_count": 45,
     "metadata": {},
     "output_type": "execute_result"
    },
    {
     "data": {
      "image/png": "[encoded data removed]",
      "text/plain": [
       "<Figure size 1080x360 with 1 Axes>"
      ]
     },
     "metadata": {
      "needs_background": "light"
     },
     "output_type": "display_data"
    }
   ],
   "source": [
    "erp.boxplot(column=\"price\", vert=False, figsize = (15,5))\n"
   ]
  },
  {
   "cell_type": "markdown",
   "id": "d08002a3-d3ae-4937-90f2-cfe98c3fd66f",
   "metadata": {
    "jp-MarkdownHeadingCollapsed": true,
    "slideshow": {
     "slide_type": "slide"
    },
    "tags": []
   },
   "source": [
    "## 7-2 La méthode z-score"
   ]
  },
  {
   "cell_type": "markdown",
   "id": "77b33e83-fcb2-4b02-9e03-f79ce15639d9",
   "metadata": {
    "slideshow": {
     "slide_type": "subslide"
    }
   },
   "source": [
    "##### On determine les valeurs aberrantes en utilisant la méthode Z-score\n",
    "###### Le z score est le nombre d'ecart-type par rapport à la moyenne d'un point d'information\n",
    "##### z = (x – μ)/σ\n",
    "##### µ= moyenne\n",
    "##### σ= ecart-type\n",
    "##### x= le prix"
   ]
  },
  {
   "cell_type": "code",
   "execution_count": 46,
   "id": "a677cfbd-d7ec-46b0-80c9-150ae1a63457",
   "metadata": {
    "slideshow": {
     "slide_type": "slide"
    }
   },
   "outputs": [],
   "source": [
    "outliers=[]                     #liste vide\n",
    "def detect_outliers(erp):        #foction pour detecter les outliers\n",
    "    threshold= 3                #seuil\n",
    "    mean = np.mean(erp.price)     #moyenne\n",
    "    std =np.std(erp.price)        #ecart-type\n",
    "    \n",
    "    for i in erp['price']:        #parcourir toutes les lignes de la variable price  \n",
    "        z_score=(i-mean)/std      #mesurer le z-score pour toute les valeurs de la variable price\n",
    "        if np.abs(z_score)> threshold:   #comparer si la valeur absolue du z-score est supérieure au seuil\n",
    "            outliers.append(i)            #si le z-score est supérieur on l'ajoute à la liste outliers\n",
    "    return outliers"
   ]
  },
  {
   "cell_type": "code",
   "execution_count": 47,
   "id": "c35d671b-2055-455f-831a-ff89574042fa",
   "metadata": {
    "slideshow": {
     "slide_type": "subslide"
    }
   },
   "outputs": [
    {
     "data": {
      "text/plain": [
       "[225.0,\n",
       " 126.5,\n",
       " 176.0,\n",
       " 157.0,\n",
       " 144.0,\n",
       " 137.0,\n",
       " 217.5,\n",
       " 124.8,\n",
       " 175.0,\n",
       " 191.3,\n",
       " 122.0,\n",
       " 114.0,\n",
       " 135.0,\n",
       " 116.4,\n",
       " 115.0,\n",
       " 121.0,\n",
       " 115.0,\n",
       " 121.0]"
      ]
     },
     "execution_count": 47,
     "metadata": {},
     "output_type": "execute_result"
    }
   ],
   "source": [
    "detect_outliers(erp)"
   ]
  },
  {
   "cell_type": "code",
   "execution_count": 48,
   "id": "37b1c52b-6cde-4d39-ad8f-e7dab84f3801",
   "metadata": {
    "slideshow": {
     "slide_type": "subslide"
    }
   },
   "outputs": [
    {
     "name": "stdout",
     "output_type": "stream",
     "text": [
      "Le nombre de prix aberrants est de 18\n"
     ]
    }
   ],
   "source": [
    "print('Le nombre de prix aberrants est de', len(outliers))"
   ]
  },
  {
   "cell_type": "markdown",
   "id": "7257eb41-c728-4e58-8166-942f56a0aed5",
   "metadata": {
    "jp-MarkdownHeadingCollapsed": true,
    "slideshow": {
     "slide_type": "slide"
    },
    "tags": []
   },
   "source": [
    "## 7-3 La méthode écart interquartile\n",
    "\n",
    "\n",
    "###### L'ecart interquartile est une mesure de dispersion qui s'obstient en faisant la différence entre le 3eme quartile et le 1er quartile\n",
    "###### quartile est chacune des 3 valeurs qui divise les données triées en 4 parts égales"
   ]
  },
  {
   "cell_type": "code",
   "execution_count": 49,
   "id": "4d62fd4f-990e-4355-9a61-ccc754bfd0ae",
   "metadata": {
    "slideshow": {
     "slide_type": "subslide"
    }
   },
   "outputs": [],
   "source": [
    "def find_all_outliers(erp):\n",
    "    Q1 = np.quantile(erp['price'], 0.25)       #Q1 = 1er quartile\n",
    "    Q3 =np.quantile(erp['price'], 0.75)         #Q3 = 3em quartile\n",
    "    EIQ = Q3 - Q1                               #EIQ = Ecart InertQuartile\n",
    "    LI = Q1 - (EIQ*1.5)                         #LI = Limite Inférieur\n",
    "    LS = Q3 - (EIQ*1.5)                         #LS = Limite Supérieure\n",
    "    \n",
    "    outliers = erp[erp['price']>LS, erp['price']<LI]    #tous les prix superieur à la LS ou inférieur à la LI sont des outliers\n",
    "    return outliers\n",
    "   "
   ]
  },
  {
   "cell_type": "code",
   "execution_count": 50,
   "id": "8e629b9a-4f79-4f7b-866c-6f81aa176146",
   "metadata": {
    "slideshow": {
     "slide_type": "subslide"
    }
   },
   "outputs": [
    {
     "data": {
      "text/plain": [
       "[225.0,\n",
       " 126.5,\n",
       " 176.0,\n",
       " 157.0,\n",
       " 144.0,\n",
       " 137.0,\n",
       " 217.5,\n",
       " 124.8,\n",
       " 175.0,\n",
       " 191.3,\n",
       " 122.0,\n",
       " 114.0,\n",
       " 135.0,\n",
       " 116.4,\n",
       " 115.0,\n",
       " 121.0,\n",
       " 115.0,\n",
       " 121.0]"
      ]
     },
     "execution_count": 50,
     "metadata": {},
     "output_type": "execute_result"
    }
   ],
   "source": [
    " outliers"
   ]
  },
  {
   "cell_type": "code",
   "execution_count": 51,
   "id": "d6f81b44-97d8-4953-8b41-bd767568d6bd",
   "metadata": {
    "slideshow": {
     "slide_type": "subslide"
    }
   },
   "outputs": [
    {
     "name": "stdout",
     "output_type": "stream",
     "text": [
      "18\n"
     ]
    }
   ],
   "source": [
    "print(len(outliers))\n"
   ]
  },
  {
   "cell_type": "markdown",
   "id": "e807da87-03a7-4d6e-afab-bc56ad5bf545",
   "metadata": {
    "slideshow": {
     "slide_type": "skip"
    }
   },
   "source": [
    "##### "
   ]
  },
  {
   "cell_type": "markdown",
   "id": "629945a8-8a09-407c-bc62-df4776887551",
   "metadata": {
    "jp-MarkdownHeadingCollapsed": true,
    "slideshow": {
     "slide_type": "slide"
    },
    "tags": []
   },
   "source": [
    "# 8-Analyse Des Ventes"
   ]
  },
  {
   "cell_type": "markdown",
   "id": "5dcac142-0666-4927-828e-d849059ace9c",
   "metadata": {
    "slideshow": {
     "slide_type": "slide"
    }
   },
   "source": [
    "##### on crée une nouveau dataframe en ordonnant la colonne CA_par_produit de facon décroissante ensuite dans ce dataframe on crée:\n",
    "##### une nouvelle colonne somme_cumulée_CA apartir CA_par_produit\n",
    "##### une nouvelle colonne  rang en fonction du CA_par_produit le plus élevé\n",
    "##### une nouvelle colonne ca_total"
   ]
  },
  {
   "cell_type": "code",
   "execution_count": 71,
   "id": "1b7f68f9-5bea-4afd-a1be-c6f9f88e587d",
   "metadata": {
    "slideshow": {
     "slide_type": "subslide"
    }
   },
   "outputs": [
    {
     "data": {
      "text/html": [
       "<div>\n",
       "<style scoped>\n",
       "    .dataframe tbody tr th:only-of-type {\n",
       "        vertical-align: middle;\n",
       "    }\n",
       "\n",
       "    .dataframe tbody tr th {\n",
       "        vertical-align: top;\n",
       "    }\n",
       "\n",
       "    .dataframe thead th {\n",
       "        text-align: right;\n",
       "    }\n",
       "</style>\n",
       "<table border=\"1\" class=\"dataframe\">\n",
       "  <thead>\n",
       "    <tr style=\"text-align: right;\">\n",
       "      <th></th>\n",
       "      <th>product_id</th>\n",
       "      <th>price</th>\n",
       "      <th>total_sales</th>\n",
       "      <th>CA_par_produit</th>\n",
       "      <th>post_name</th>\n",
       "    </tr>\n",
       "  </thead>\n",
       "  <tbody>\n",
       "    <tr>\n",
       "      <th>194</th>\n",
       "      <td>4334</td>\n",
       "      <td>49.0</td>\n",
       "      <td>96.0</td>\n",
       "      <td>4704.0</td>\n",
       "      <td>champagne-gosset-grand-blanc-de-blanc</td>\n",
       "    </tr>\n",
       "    <tr>\n",
       "      <th>71</th>\n",
       "      <td>4144</td>\n",
       "      <td>49.0</td>\n",
       "      <td>87.0</td>\n",
       "      <td>4263.0</td>\n",
       "      <td>champagne-gosset-grand-rose</td>\n",
       "    </tr>\n",
       "    <tr>\n",
       "      <th>218</th>\n",
       "      <td>4402</td>\n",
       "      <td>176.0</td>\n",
       "      <td>13.0</td>\n",
       "      <td>2288.0</td>\n",
       "      <td>cognac-frapin-vip-xo</td>\n",
       "    </tr>\n",
       "    <tr>\n",
       "      <th>70</th>\n",
       "      <td>4142</td>\n",
       "      <td>53.0</td>\n",
       "      <td>30.0</td>\n",
       "      <td>1590.0</td>\n",
       "      <td>champagne-gosset-grand-millesime-2006</td>\n",
       "    </tr>\n",
       "    <tr>\n",
       "      <th>69</th>\n",
       "      <td>4141</td>\n",
       "      <td>39.0</td>\n",
       "      <td>40.0</td>\n",
       "      <td>1560.0</td>\n",
       "      <td>gosset-champagne-grande-reserve</td>\n",
       "    </tr>\n",
       "    <tr>\n",
       "      <th>201</th>\n",
       "      <td>4355</td>\n",
       "      <td>126.5</td>\n",
       "      <td>11.0</td>\n",
       "      <td>1391.5</td>\n",
       "      <td>champagne-egly-ouriet-grand-cru-brut-blanc-de-...</td>\n",
       "    </tr>\n",
       "    <tr>\n",
       "      <th>199</th>\n",
       "      <td>4352</td>\n",
       "      <td>225.0</td>\n",
       "      <td>5.0</td>\n",
       "      <td>1125.0</td>\n",
       "      <td>champagne-egly-ouriet-grand-cru-millesime-2008</td>\n",
       "    </tr>\n",
       "    <tr>\n",
       "      <th>79</th>\n",
       "      <td>4153</td>\n",
       "      <td>29.0</td>\n",
       "      <td>36.0</td>\n",
       "      <td>1044.0</td>\n",
       "      <td>elian-daros-cotes-du-marmandais-clos-baquey-2015</td>\n",
       "    </tr>\n",
       "    <tr>\n",
       "      <th>650</th>\n",
       "      <td>6206</td>\n",
       "      <td>25.2</td>\n",
       "      <td>41.0</td>\n",
       "      <td>1033.2</td>\n",
       "      <td>domaine-giudicelli-patrimonio-blanc-2019</td>\n",
       "    </tr>\n",
       "    <tr>\n",
       "      <th>30</th>\n",
       "      <td>4068</td>\n",
       "      <td>16.6</td>\n",
       "      <td>62.0</td>\n",
       "      <td>1029.2</td>\n",
       "      <td>gilles-robin-crozes-hermitage-papillon-2019</td>\n",
       "    </tr>\n",
       "    <tr>\n",
       "      <th>17</th>\n",
       "      <td>4053</td>\n",
       "      <td>44.3</td>\n",
       "      <td>23.0</td>\n",
       "      <td>1018.9</td>\n",
       "      <td>clos-du-mont-olivet-chateauneuf-du-pape-2012</td>\n",
       "    </tr>\n",
       "    <tr>\n",
       "      <th>228</th>\n",
       "      <td>4596</td>\n",
       "      <td>43.9</td>\n",
       "      <td>23.0</td>\n",
       "      <td>1009.7</td>\n",
       "      <td>marc-colin-et-fils-chassagne-montrachet-blanc-...</td>\n",
       "    </tr>\n",
       "    <tr>\n",
       "      <th>373</th>\n",
       "      <td>4891</td>\n",
       "      <td>27.9</td>\n",
       "      <td>36.0</td>\n",
       "      <td>1004.4</td>\n",
       "      <td>jacqueson-rully-blanc-1er-cru-la-pucelle-2018</td>\n",
       "    </tr>\n",
       "    <tr>\n",
       "      <th>444</th>\n",
       "      <td>5067</td>\n",
       "      <td>59.9</td>\n",
       "      <td>16.0</td>\n",
       "      <td>958.4</td>\n",
       "      <td>albert-mann-pinot-noir-grand-h-2017</td>\n",
       "    </tr>\n",
       "    <tr>\n",
       "      <th>651</th>\n",
       "      <td>6207</td>\n",
       "      <td>25.2</td>\n",
       "      <td>37.0</td>\n",
       "      <td>932.4</td>\n",
       "      <td>domaine-giudicelli-patrimonio-rouge-2016</td>\n",
       "    </tr>\n",
       "  </tbody>\n",
       "</table>\n",
       "</div>"
      ],
      "text/plain": [
       "     product_id  price  total_sales  CA_par_produit  \\\n",
       "194        4334   49.0         96.0          4704.0   \n",
       "71         4144   49.0         87.0          4263.0   \n",
       "218        4402  176.0         13.0          2288.0   \n",
       "70         4142   53.0         30.0          1590.0   \n",
       "69         4141   39.0         40.0          1560.0   \n",
       "201        4355  126.5         11.0          1391.5   \n",
       "199        4352  225.0          5.0          1125.0   \n",
       "79         4153   29.0         36.0          1044.0   \n",
       "650        6206   25.2         41.0          1033.2   \n",
       "30         4068   16.6         62.0          1029.2   \n",
       "17         4053   44.3         23.0          1018.9   \n",
       "228        4596   43.9         23.0          1009.7   \n",
       "373        4891   27.9         36.0          1004.4   \n",
       "444        5067   59.9         16.0           958.4   \n",
       "651        6207   25.2         37.0           932.4   \n",
       "\n",
       "                                             post_name  \n",
       "194              champagne-gosset-grand-blanc-de-blanc  \n",
       "71                         champagne-gosset-grand-rose  \n",
       "218                               cognac-frapin-vip-xo  \n",
       "70               champagne-gosset-grand-millesime-2006  \n",
       "69                     gosset-champagne-grande-reserve  \n",
       "201  champagne-egly-ouriet-grand-cru-brut-blanc-de-...  \n",
       "199     champagne-egly-ouriet-grand-cru-millesime-2008  \n",
       "79    elian-daros-cotes-du-marmandais-clos-baquey-2015  \n",
       "650           domaine-giudicelli-patrimonio-blanc-2019  \n",
       "30         gilles-robin-crozes-hermitage-papillon-2019  \n",
       "17        clos-du-mont-olivet-chateauneuf-du-pape-2012  \n",
       "228  marc-colin-et-fils-chassagne-montrachet-blanc-...  \n",
       "373      jacqueson-rully-blanc-1er-cru-la-pucelle-2018  \n",
       "444                albert-mann-pinot-noir-grand-h-2017  \n",
       "651           domaine-giudicelli-patrimonio-rouge-2016  "
      ]
     },
     "execution_count": 71,
     "metadata": {},
     "output_type": "execute_result"
    }
   ],
   "source": [
    "erp_web_new = erp_web[['product_id', 'price', 'total_sales', 'CA_par_produit', 'post_name']].sort_values(by='CA_par_produit', ascending= False)\n",
    "erp_web_new.head(15)"
   ]
  },
  {
   "cell_type": "code",
   "execution_count": 53,
   "id": "086d04ea-787b-467a-924e-dd30a73bcbca",
   "metadata": {
    "slideshow": {
     "slide_type": "subslide"
    }
   },
   "outputs": [],
   "source": [
    "erp_web_new['somme_cumulée_CA'] = erp_web_new['CA_par_produit'].cumsum()"
   ]
  },
  {
   "cell_type": "code",
   "execution_count": 54,
   "id": "518ba3d7-bcee-479a-ad6e-a40a83505c21",
   "metadata": {
    "slideshow": {
     "slide_type": "subslide"
    }
   },
   "outputs": [],
   "source": [
    "erp_web_new['rang'] = erp_web_new['CA_par_produit'].rank(ascending = False)"
   ]
  },
  {
   "cell_type": "code",
   "execution_count": 55,
   "id": "2e70a771-2e78-49d3-bf01-58b008674d7d",
   "metadata": {
    "slideshow": {
     "slide_type": "subslide"
    }
   },
   "outputs": [],
   "source": [
    "erp_web_new['ca_total'] = erp_web['CA_par_produit'].sum()"
   ]
  },
  {
   "cell_type": "markdown",
   "id": "35d759d2-3dd8-43aa-9cb1-c37dc7803db3",
   "metadata": {
    "slideshow": {
     "slide_type": "slide"
    }
   },
   "source": [
    "##### x représente la longueur c'est a dire le nombre de ligne de la variable rang\n",
    "##### y  c'est les 10% c'est à dire les 71 premiere lignes de la variable rang qui ont un classement High\n",
    "##### à partir de (y+1) ligne jusqu'à la ligne z on calcul les 30% suivants qui ont un classement Mid\n",
    "##### les ligne supérieur a z représente les 60% et ont un classement Low "
   ]
  },
  {
   "cell_type": "code",
   "execution_count": 56,
   "id": "b0fd5623-2028-444f-ab76-48d597d3dc87",
   "metadata": {
    "slideshow": {
     "slide_type": "slide"
    }
   },
   "outputs": [],
   "source": [
    "x = len(erp_web_new['rang'])\n",
    "y = x * 10/100\n",
    "z = ((x - y )*30/100) + y\n",
    "#on crée une nouvelle colonne classement selon leur rang \n",
    "conditionlist = [\n",
    "    (erp_web_new['rang'] <= y) ,\n",
    "    (erp_web_new['rang'] >= (y+1)) & (erp_web_new['rang'] <=z),\n",
    "    (erp_web_new['rang'] > z)]\n",
    "choicelist = ['High', 'Mid', 'Low']\n",
    "erp_web_new['classement'] = np.select(conditionlist, choicelist, default='Not Specified')"
   ]
  },
  {
   "cell_type": "markdown",
   "id": "2b2ae7dd-f91f-4c30-9687-5733138ee83e",
   "metadata": {
    "slideshow": {
     "slide_type": "slide"
    }
   },
   "source": [
    "##### on fait la somme du CA_par_produit selon le classement \n",
    "##### ensuite on filtre sur chaque classement"
   ]
  },
  {
   "cell_type": "code",
   "execution_count": 57,
   "id": "7c817e17-31bf-4085-9559-e18c54bbff94",
   "metadata": {
    "slideshow": {
     "slide_type": "subslide"
    }
   },
   "outputs": [],
   "source": [
    "grouped = erp_web_new.groupby(['classement'])['CA_par_produit'].sum() \n",
    "\n",
    "group_high = grouped.filter(items=['High'])\n",
    "group_mid = grouped.filter(items=['Mid'])\n",
    "group_Low = grouped.filter(items=['Low'])"
   ]
  },
  {
   "cell_type": "markdown",
   "id": "dd99f524-6b37-49e7-825b-759d76bb9a90",
   "metadata": {
    "slideshow": {
     "slide_type": "slide"
    }
   },
   "source": [
    "##### on calcul le pourcentage pour chaque classement en fonction du CA total"
   ]
  },
  {
   "cell_type": "code",
   "execution_count": 58,
   "id": "7de23df2-d26e-4d3d-97d5-9742bb5b70bf",
   "metadata": {
    "slideshow": {
     "slide_type": "subslide"
    }
   },
   "outputs": [
    {
     "data": {
      "text/plain": [
       "classement\n",
       "High    66.130014\n",
       "Name: CA_par_produit, dtype: float64"
      ]
     },
     "execution_count": 58,
     "metadata": {},
     "output_type": "execute_result"
    }
   ],
   "source": [
    "high = ( group_high *100)/ca_Total\n",
    "high"
   ]
  },
  {
   "cell_type": "code",
   "execution_count": 59,
   "id": "00633add-fa72-4ffd-8e24-d3faefeba48f",
   "metadata": {
    "slideshow": {
     "slide_type": "subslide"
    }
   },
   "outputs": [
    {
     "data": {
      "text/plain": [
       "classement\n",
       "Low    4.551712\n",
       "Name: CA_par_produit, dtype: float64"
      ]
     },
     "execution_count": 59,
     "metadata": {},
     "output_type": "execute_result"
    }
   ],
   "source": [
    "low = (group_Low*100)/ca_Total\n",
    "low"
   ]
  },
  {
   "cell_type": "code",
   "execution_count": 60,
   "id": "02dc35af-a2fe-4571-8393-ca9d6c14cc2c",
   "metadata": {},
   "outputs": [
    {
     "data": {
      "text/plain": [
       "classement\n",
       "Mid    29.318274\n",
       "Name: CA_par_produit, dtype: float64"
      ]
     },
     "execution_count": 60,
     "metadata": {},
     "output_type": "execute_result"
    }
   ],
   "source": [
    "mid = (group_mid*100)/ca_Total\n",
    "mid"
   ]
  },
  {
   "cell_type": "markdown",
   "id": "9fdcd47c-69e7-4d13-b59d-baf2bad7f96b",
   "metadata": {
    "jp-MarkdownHeadingCollapsed": true,
    "slideshow": {
     "slide_type": "slide"
    },
    "tags": []
   },
   "source": [
    "## 8-1 Conclusion\n",
    "##### 10% des produits avec le CA les plus élevés représente 66.13% du CA_total\n",
    "##### 30% des produits suivants en terme de CA font 29.31% du CA_total\n",
    "##### enfin les 60% des produits restants avec le CA les plus faibles font 4.55% du CA_total\n",
    "##### Dans les 10% des produits on retrouve les outliers qui en réalité sont des produits de luxe et si on les supprime du catalogue de produit cela diminuera le CA a l'avenir."
   ]
  },
  {
   "cell_type": "code",
   "execution_count": 68,
   "id": "b6c3f74a-add1-4b4c-bbf8-03cf72cc3ef1",
   "metadata": {
    "slideshow": {
     "slide_type": "slide"
    }
   },
   "outputs": [
    {
     "data": {
      "application/vnd.jupyter.widget-view+json": {
       "model_id": "cc56b309d55e4c06951a53f05a96bbff",
       "version_major": 2,
       "version_minor": 0
      },
      "image/png": "[encoded data removed]",
      "text/html": [
       "\n",
       "            <div style=\"display: inline-block;\">\n",
       "                <div class=\"jupyter-widgets widget-label\" style=\"text-align: center;\">\n",
       "                    Figure\n",
       "                </div>\n",
       "                <img src='data:image/png;base64,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' width=640.0/>\n",
       "            </div>\n",
       "        "
      ],
      "text/plain": [
       "Canvas(toolbar=Toolbar(toolitems=[('Home', 'Reset original view', 'home', 'home'), ('Back', 'Back to previous …"
      ]
     },
     "metadata": {},
     "output_type": "display_data"
    }
   ],
   "source": [
    "%matplotlib widget\n",
    "\n",
    "# Matplotlib Scatter Plot\n",
    "x= erp_web_new['CA_par_produit']\n",
    "y= erp_web_new['price']\n",
    "font1 = {'family':'serif','color':'darkred','size':20}\n",
    "font2 = {'family':'serif','color':'darkred','size':15}\n",
    "plt.title(\"Le CA du produit en fonction du prix\", fontdict = font1)\n",
    "plt.xlabel('CA_par_produit', fontdict = font2)\n",
    "plt.ylabel('price', fontdict = font2)\n",
    "\n",
    "\n",
    "\n",
    "plt.scatter(x,y,  alpha=0.5, cmap='nipy_spectral')\n",
    "\n",
    "plt.show()"
   ]
  }
 ],
 "metadata": {
  "celltoolbar": "Diaporama",
  "kernelspec": {
   "display_name": "Python 3 (ipykernel)",
   "language": "python",
   "name": "python3"
  },
  "language_info": {
   "codemirror_mode": {
    "name": "ipython",
    "version": 3
   },
   "file_extension": ".py",
   "mimetype": "text/x-python",
   "name": "python",
   "nbconvert_exporter": "python",
   "pygments_lexer": "ipython3",
   "version": "3.10.2"
  }
 },
 "nbformat": 4,
 "nbformat_minor": 5
}
